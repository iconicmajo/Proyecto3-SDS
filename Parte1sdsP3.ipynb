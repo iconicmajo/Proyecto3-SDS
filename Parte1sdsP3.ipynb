{
  "cells": [
    {
      "cell_type": "markdown",
      "metadata": {
        "id": "t40_Fqp0L34L"
      },
      "source": [
        "# Proyecto 3\n",
        "## Ataques a Modelos de Deep Learning\n",
        "Ataque y defensa de modelos de aprendizaje de máquina y aprendizaje profundo.\n",
        "> #### Gerardo Méndez 18239\n",
        "> #### María José Castro 181202"
      ]
    },
    {
      "cell_type": "code",
      "source": [
        "from google.colab import drive\n",
        "drive.mount('/content/drive')"
      ],
      "metadata": {
        "colab": {
          "base_uri": "https://localhost:8080/"
        },
        "id": "eKrIDnghL5Fz",
        "outputId": "cf3fcd78-5b3c-48b9-8039-54c2cb4ef185"
      },
      "execution_count": 5,
      "outputs": [
        {
          "output_type": "stream",
          "name": "stdout",
          "text": [
            "Drive already mounted at /content/drive; to attempt to forcibly remount, call drive.mount(\"/content/drive\", force_remount=True).\n"
          ]
        }
      ]
    },
    {
      "cell_type": "code",
      "execution_count": 6,
      "metadata": {
        "id": "8TrBXp14pv54"
      },
      "outputs": [],
      "source": [
        "import numpy as np\n",
        "import pandas as pd\n",
        "import seaborn as sns\n",
        "import tensorflow as tf\n",
        "\n",
        "from tensorflow import keras\n",
        "from keras.constraints import maxnorm\n",
        "from keras.preprocessing.image import ImageDataGenerator"
      ]
    },
    {
      "cell_type": "code",
      "execution_count": 7,
      "metadata": {
        "id": "_IVHZLguL34O"
      },
      "outputs": [],
      "source": [
        "DATA_DIRECTORY = '/content/drive/MyDrive/SDS-Lab-07/malimg_paper_dataset_imgs'"
      ]
    },
    {
      "cell_type": "markdown",
      "metadata": {
        "id": "KSYiCLweL34O"
      },
      "source": [
        "### OBTENCION DE IMAGENES"
      ]
    },
    {
      "cell_type": "code",
      "execution_count": 18,
      "metadata": {
        "colab": {
          "base_uri": "https://localhost:8080/"
        },
        "id": "LPuLS6TYL34P",
        "outputId": "57cb2000-1204-450c-c696-16cc7c6b6ac3"
      },
      "outputs": [
        {
          "output_type": "stream",
          "name": "stdout",
          "text": [
            "Found 9339 images belonging to 25 classes.\n"
          ]
        }
      ],
      "source": [
        "path_images = ImageDataGenerator().flow_from_directory(directory=DATA_DIRECTORY, target_size=(128,128), batch_size=10000)"
      ]
    },
    {
      "cell_type": "code",
      "execution_count": 19,
      "metadata": {
        "id": "AC1dLyBaL34P"
      },
      "outputs": [],
      "source": [
        "images, marks = next(path_images)"
      ]
    },
    {
      "cell_type": "code",
      "execution_count": 20,
      "metadata": {
        "id": "MABZ3eBQL34P"
      },
      "outputs": [],
      "source": [
        "indices_path = path_images.class_indices"
      ]
    },
    {
      "cell_type": "code",
      "execution_count": 21,
      "metadata": {
        "id": "UrPqlUpqL34Q"
      },
      "outputs": [],
      "source": [
        "type_images = indices_path.keys()"
      ]
    },
    {
      "cell_type": "code",
      "execution_count": 22,
      "metadata": {
        "colab": {
          "base_uri": "https://localhost:8080/"
        },
        "id": "K5LdXkf7L34Q",
        "outputId": "1ffe7996-8078-45bc-a47d-4250df502808"
      },
      "outputs": [
        {
          "output_type": "stream",
          "name": "stdout",
          "text": [
            "--> NO. DE IMÁGENES:  9339\n",
            "--> NO. DE CLASES:  25\n"
          ]
        }
      ],
      "source": [
        "shape = marks.shape\n",
        "\n",
        "print(\"--> NO. DE IMÁGENES: \", shape[0])\n",
        "print(\"--> NO. DE CLASES: \", shape[1])"
      ]
    },
    {
      "cell_type": "code",
      "execution_count": 23,
      "metadata": {
        "id": "dXHnNsW7L34R"
      },
      "outputs": [],
      "source": [
        "add = sum(marks)\n",
        "marks_qt = marks.shape[0]"
      ]
    },
    {
      "cell_type": "code",
      "execution_count": 24,
      "metadata": {
        "id": "ZUuUhdCbL34R"
      },
      "outputs": [],
      "source": [
        "quantity = ((add) / marks_qt)"
      ]
    },
    {
      "cell_type": "code",
      "execution_count": 25,
      "metadata": {
        "colab": {
          "base_uri": "https://localhost:8080/"
        },
        "id": "t009I65mL34R",
        "outputId": "bc16d2bd-2def-4c64-d687-1bc68f9cddc8"
      },
      "outputs": [
        {
          "output_type": "execute_result",
          "data": {
            "text/plain": [
              "array([ 1.3063496 ,  1.2421031 , 31.577257  , 17.036085  ,  2.1201413 ,\n",
              "        1.1350251 ,  1.5633365 ,  2.141557  ,  1.895278  ,  1.7346611 ,\n",
              "        4.079666  ,  4.615055  ,  2.2807581 ,  1.9702322 ,  1.3170575 ,\n",
              "        1.7025378 ,  1.4562588 ,  1.5205053 ,  1.6918299 ,  0.85662276,\n",
              "        1.3705964 ,  1.4134276 ,  4.3687763 ,  1.038655  ,  8.566228  ],\n",
              "      dtype=float32)"
            ]
          },
          "metadata": {},
          "execution_count": 25
        }
      ],
      "source": [
        "quantity = quantity * 100\n",
        "quantity"
      ]
    },
    {
      "cell_type": "markdown",
      "metadata": {
        "id": "1p6mrym6L34R"
      },
      "source": [
        "### DIVISION DE DATOS"
      ]
    },
    {
      "cell_type": "code",
      "execution_count": 26,
      "metadata": {
        "id": "8uJ3IjoGL34R"
      },
      "outputs": [],
      "source": [
        "from sklearn.model_selection import train_test_split"
      ]
    },
    {
      "cell_type": "code",
      "execution_count": 59,
      "metadata": {
        "id": "mRBkNYRHL34S"
      },
      "outputs": [],
      "source": [
        "X_train, X_test, y_train, y_test = train_test_split(images/255.,marks, test_size=0.3)"
      ]
    },
    {
      "cell_type": "code",
      "execution_count": 28,
      "metadata": {
        "colab": {
          "base_uri": "https://localhost:8080/"
        },
        "id": "vIwkZWcjL34S",
        "outputId": "cd22e154-14c0-4b0d-9015-227cdb1728ad"
      },
      "outputs": [
        {
          "output_type": "stream",
          "name": "stdout",
          "text": [
            "(6537, 128, 128, 3)\n",
            "321306624\n"
          ]
        }
      ],
      "source": [
        "#Datasets de train de X\n",
        "print(X_train.shape)\n",
        "print(X_train.size)"
      ]
    },
    {
      "cell_type": "code",
      "execution_count": 29,
      "metadata": {
        "colab": {
          "base_uri": "https://localhost:8080/"
        },
        "id": "tSGzzidaL34S",
        "outputId": "931147c7-bfa0-4ce2-e38b-db78a35addaf"
      },
      "outputs": [
        {
          "output_type": "stream",
          "name": "stdout",
          "text": [
            "(2802, 128, 128, 3)\n",
            "137723904\n"
          ]
        }
      ],
      "source": [
        "#Dataset de test de X\n",
        "print(X_test.shape)\n",
        "print(X_test.size)"
      ]
    },
    {
      "cell_type": "code",
      "execution_count": 30,
      "metadata": {
        "colab": {
          "base_uri": "https://localhost:8080/"
        },
        "id": "yQC691_CL34S",
        "outputId": "ea96e695-06b6-4c50-e26e-b4d8e79c41f3"
      },
      "outputs": [
        {
          "output_type": "stream",
          "name": "stdout",
          "text": [
            "(6537, 25)\n",
            "163425\n"
          ]
        }
      ],
      "source": [
        "#Dataset de train de Y\n",
        "print(y_train.shape)\n",
        "print(y_train.size)"
      ]
    },
    {
      "cell_type": "code",
      "execution_count": 31,
      "metadata": {
        "colab": {
          "base_uri": "https://localhost:8080/"
        },
        "id": "KRKfN3i7L34S",
        "outputId": "0fb8cc05-17cd-4f77-abed-45c7036a2e0b"
      },
      "outputs": [
        {
          "output_type": "stream",
          "name": "stdout",
          "text": [
            "(2802, 25)\n",
            "70050\n"
          ]
        }
      ],
      "source": [
        "#Dataset de test de Y\n",
        "print(y_test.shape)\n",
        "print(y_test.size)"
      ]
    },
    {
      "cell_type": "markdown",
      "metadata": {
        "id": "Nz6SIQ5TL34S"
      },
      "source": [
        "### MODELO"
      ]
    },
    {
      "cell_type": "code",
      "execution_count": 20,
      "metadata": {
        "id": "P7MUeVAkL34S"
      },
      "outputs": [],
      "source": [
        "model = keras.Sequential()\n",
        "model.add(keras.layers.Conv2D(32, (5, 5), input_shape=(128, 128, 3), activation='relu', padding='same'))\n",
        "model.add(keras.layers.MaxPooling2D(2))\n",
        "#model.add(keras.layers.Dropout(0.2))\n",
        "#model.add(keras.layers.BatchNormalization())\n",
        "model.add(keras.layers.Conv2D(64, (3, 3), activation='relu'))\n",
        "model.add(keras.layers.Conv2D(128, (3, 3), activation='relu'))\n",
        "model.add(keras.layers.Flatten())\n",
        "model.add(keras.layers.Dense(128, activation='relu'))\n",
        "model.add(keras.layers.Dense(25, activation='softmax'))"
      ]
    },
    {
      "cell_type": "code",
      "execution_count": 21,
      "metadata": {
        "colab": {
          "base_uri": "https://localhost:8080/"
        },
        "id": "bgd8vGsDL34T",
        "outputId": "4b73e2d7-daf6-4d0d-ff97-6ff5d67f7af9"
      },
      "outputs": [
        {
          "output_type": "stream",
          "name": "stdout",
          "text": [
            "Model: \"sequential\"\n",
            "_________________________________________________________________\n",
            " Layer (type)                Output Shape              Param #   \n",
            "=================================================================\n",
            " conv2d (Conv2D)             (None, 128, 128, 32)      2432      \n",
            "                                                                 \n",
            " max_pooling2d (MaxPooling2D  (None, 64, 64, 32)       0         \n",
            " )                                                               \n",
            "                                                                 \n",
            " conv2d_1 (Conv2D)           (None, 62, 62, 64)        18496     \n",
            "                                                                 \n",
            " conv2d_2 (Conv2D)           (None, 60, 60, 128)       73856     \n",
            "                                                                 \n",
            " flatten (Flatten)           (None, 460800)            0         \n",
            "                                                                 \n",
            " dense (Dense)               (None, 128)               58982528  \n",
            "                                                                 \n",
            " dense_1 (Dense)             (None, 25)                3225      \n",
            "                                                                 \n",
            "=================================================================\n",
            "Total params: 59,080,537\n",
            "Trainable params: 59,080,537\n",
            "Non-trainable params: 0\n",
            "_________________________________________________________________\n"
          ]
        }
      ],
      "source": [
        "model.summary()"
      ]
    },
    {
      "cell_type": "code",
      "execution_count": 22,
      "metadata": {
        "colab": {
          "base_uri": "https://localhost:8080/"
        },
        "id": "BihBo6xvL34T",
        "outputId": "31e1afb7-ee21-43f1-9c58-feab5bc112c2"
      },
      "outputs": [
        {
          "output_type": "execute_result",
          "data": {
            "text/plain": [
              "[<keras.layers.convolutional.Conv2D at 0x7f86dbda2810>,\n",
              " <keras.layers.pooling.MaxPooling2D at 0x7f86dbda2850>,\n",
              " <keras.layers.convolutional.Conv2D at 0x7f86da045250>,\n",
              " <keras.layers.convolutional.Conv2D at 0x7f86da045a50>,\n",
              " <keras.layers.core.flatten.Flatten at 0x7f86d9fc9250>,\n",
              " <keras.layers.core.dense.Dense at 0x7f86d9f9fa50>,\n",
              " <keras.layers.core.dense.Dense at 0x7f86d9fd0490>]"
            ]
          },
          "metadata": {},
          "execution_count": 22
        }
      ],
      "source": [
        "model.layers"
      ]
    },
    {
      "cell_type": "code",
      "execution_count": 23,
      "metadata": {
        "id": "4BOQF_orL34T"
      },
      "outputs": [],
      "source": [
        "model.compile(loss='categorical_crossentropy', optimizer='adam', metrics=['accuracy'])"
      ]
    },
    {
      "cell_type": "code",
      "execution_count": 24,
      "metadata": {
        "colab": {
          "base_uri": "https://localhost:8080/"
        },
        "id": "wr2YWAuWL34T",
        "outputId": "74ffd188-5fd6-4b69-a44a-65065d53d7f6"
      },
      "outputs": [
        {
          "output_type": "stream",
          "name": "stdout",
          "text": [
            "88/88 [==============================] - 52s 579ms/step - loss: 3.2245 - accuracy: 0.0375\n",
            "Accuracy  0.03747323155403137\n"
          ]
        }
      ],
      "source": [
        "op = model.evaluate(X_test, y_test)\n",
        "print(\"Accuracy \", op[1])"
      ]
    },
    {
      "cell_type": "code",
      "execution_count": 29,
      "metadata": {
        "colab": {
          "base_uri": "https://localhost:8080/"
        },
        "id": "NQ5EvFEiL34T",
        "outputId": "4cb1ee36-46c2-4f82-aa82-57d667fa1a18"
      },
      "outputs": [
        {
          "output_type": "stream",
          "name": "stdout",
          "text": [
            "Epoch 1/4\n",
            "205/205 [==============================] - 554s 3s/step - loss: 0.9214 - accuracy: 0.8319 - val_loss: 0.3162 - val_accuracy: 0.9211\n",
            "Epoch 2/4\n",
            "205/205 [==============================] - 568s 3s/step - loss: 0.0883 - accuracy: 0.9732 - val_loss: 0.1290 - val_accuracy: 0.9661\n",
            "Epoch 3/4\n",
            "205/205 [==============================] - 569s 3s/step - loss: 0.0279 - accuracy: 0.9917 - val_loss: 0.1683 - val_accuracy: 0.9643\n",
            "Epoch 4/4\n",
            "205/205 [==============================] - 568s 3s/step - loss: 0.0119 - accuracy: 0.9962 - val_loss: 0.1086 - val_accuracy: 0.9779\n"
          ]
        },
        {
          "output_type": "execute_result",
          "data": {
            "text/plain": [
              "<keras.callbacks.History at 0x7f86d9e7f5d0>"
            ]
          },
          "metadata": {},
          "execution_count": 29
        }
      ],
      "source": [
        "model.fit(X_train, y_train, validation_data=(X_test, y_test), epochs=4)"
      ]
    },
    {
      "cell_type": "code",
      "execution_count": 30,
      "metadata": {
        "colab": {
          "base_uri": "https://localhost:8080/"
        },
        "id": "0bNe3N2YL34T",
        "outputId": "446610b8-a8a4-4c66-b7de-52729c506bab"
      },
      "outputs": [
        {
          "output_type": "execute_result",
          "data": {
            "text/plain": [
              "dict_keys(['Adialer.C', 'Agent.FYI', 'Allaple.A', 'Allaple.L', 'Alueron.gen!J', 'Autorun.K', 'C2LOP.P', 'C2LOP.gen!g', 'Dialplatform.B', 'Dontovo.A', 'Fakerean', 'Instantaccess', 'Lolyda.AA1', 'Lolyda.AA2', 'Lolyda.AA3', 'Lolyda.AT', 'Malex.gen!J', 'Obfuscator.AD', 'Rbot!gen', 'Skintrim.N', 'Swizzor.gen!E', 'Swizzor.gen!I', 'VB.AT', 'Wintrim.BX', 'Yuner.A'])"
            ]
          },
          "metadata": {},
          "execution_count": 30
        }
      ],
      "source": [
        "type_images"
      ]
    },
    {
      "cell_type": "code",
      "execution_count": 31,
      "metadata": {
        "id": "Iu1Rql3vL34T"
      },
      "outputs": [],
      "source": [
        "model.save('/content/drive/MyDrive/SDS-Lab-07/Finalmodel.h5')"
      ]
    },
    {
      "cell_type": "code",
      "source": [
        "#Para saber la accuracy total\n",
        "getAccuracy = model.evaluate(X_test, y_test)"
      ],
      "metadata": {
        "colab": {
          "base_uri": "https://localhost:8080/"
        },
        "id": "utPngtUBhzwI",
        "outputId": "ae32debb-5bc3-4bdc-c2b9-9af1332ae1e9"
      },
      "execution_count": 32,
      "outputs": [
        {
          "output_type": "stream",
          "name": "stdout",
          "text": [
            "88/88 [==============================] - 54s 605ms/step - loss: 0.1086 - accuracy: 0.9779\n"
          ]
        }
      ]
    },
    {
      "cell_type": "code",
      "source": [
        "print('Accuracy: ',getAccuracy[1])"
      ],
      "metadata": {
        "colab": {
          "base_uri": "https://localhost:8080/"
        },
        "id": "pH46JJ1Xi1MI",
        "outputId": "6e99bdee-4fb7-4ac7-d5b4-55115646b7df"
      },
      "execution_count": 33,
      "outputs": [
        {
          "output_type": "stream",
          "name": "stdout",
          "text": [
            "Accuracy:  0.9778729677200317\n"
          ]
        }
      ]
    },
    {
      "cell_type": "markdown",
      "metadata": {
        "id": "OHx_GI5lL34T"
      },
      "source": [
        "### Ataque de Extraccion"
      ]
    },
    {
      "cell_type": "code",
      "execution_count": 32,
      "metadata": {
        "id": "P_ovMw9oL34T"
      },
      "outputs": [],
      "source": [
        "#Primero cargamos el modelo para no ejecutarlo cada vez\n",
        "Modelmalware = keras.models.load_model('/content/drive/MyDrive/SDS-Lab-07/Finalmodel.h5')"
      ]
    },
    {
      "cell_type": "code",
      "source": [
        "#Variables con las que se desarrollo el modelo inicial y necesarias\n",
        "num_epochs = 4\n",
        "len_steal = 5000"
      ],
      "metadata": {
        "id": "n0s45OhDkh9B"
      },
      "execution_count": 33,
      "outputs": []
    },
    {
      "cell_type": "code",
      "source": [
        "from art.estimators.classification import KerasClassifier"
      ],
      "metadata": {
        "id": "wizdfSB3l_1V"
      },
      "execution_count": 34,
      "outputs": []
    },
    {
      "cell_type": "code",
      "source": [
        "tf.compat.v1.disable_eager_execution()"
      ],
      "metadata": {
        "id": "RV6xq8vdnioP"
      },
      "execution_count": 35,
      "outputs": []
    },
    {
      "cell_type": "code",
      "source": [
        "#Transformamos el modelo en clasificador de Keras\n",
        "classifier_original = KerasClassifier(model=Modelmalware, clip_values=(0,1), use_logits=False)\n",
        "#classifier_original = KerasClassifier(Modelmalware, clip_values=(0, 1), use_logits=False)"
      ],
      "metadata": {
        "id": "_I3tWuLcluSb"
      },
      "execution_count": 36,
      "outputs": []
    },
    {
      "cell_type": "code",
      "source": [
        "x_test0 = X_test\n",
        "y_test0 = y_test\n",
        "#Esta parte del codigo fue extraida del repositorio: \n",
        "#https://github.com/Trusted-AI/adversarial-robustness-toolbox/blob/main/notebooks/model-stealing-demo.ipynb\n",
        "#Fue uno de los insumos proporcionados para este proyecto \n",
        "\n",
        "# Stealing from the unprotected classifier.\n",
        "from art.attacks import ExtractionAttack\n",
        "from art.attacks.extraction import CopycatCNN, KnockoffNets\n",
        "\n",
        "attack_catalogue = {\"Probabilistic CopycatCNN\": CopycatCNN(classifier=classifier_original,\n",
        "                                              batch_size_fit=64,\n",
        "                                              batch_size_query=64,\n",
        "                                              nb_epochs=num_epochs,\n",
        "                                              nb_stolen=len_steal,\n",
        "                                              use_probability=True),\n",
        "                    \"Argmax CopycatCNN\": CopycatCNN(classifier=classifier_original,\n",
        "                                              batch_size_fit=64,\n",
        "                                              batch_size_query=64,\n",
        "                                              nb_epochs=num_epochs,\n",
        "                                              nb_stolen=len_steal,\n",
        "                                              use_probability=False),\n",
        "                    \"Probabilistic KnockoffNets\": KnockoffNets(classifier=classifier_original,\n",
        "                                              batch_size_fit=64,\n",
        "                                              batch_size_query=64,\n",
        "                                              nb_epochs=num_epochs,\n",
        "                                              nb_stolen=len_steal,\n",
        "                                              use_probability=True),\n",
        "                    \"Argmax KnockoffNets\": KnockoffNets(classifier=classifier_original,\n",
        "                                              batch_size_fit=64,\n",
        "                                              batch_size_query=64,\n",
        "                                              nb_epochs=num_epochs,\n",
        "                                              nb_stolen=len_steal,\n",
        "                                              use_probability=False),\n",
        "                   }"
      ],
      "metadata": {
        "id": "bsN1O_pWkr9Y"
      },
      "execution_count": 37,
      "outputs": []
    },
    {
      "cell_type": "code",
      "source": [
        "from keras.models import Sequential, Model\n",
        "from keras.layers import Dense, Dropout, Flatten\n",
        "from keras.layers import Conv2D, MaxPooling2D, InputLayer, Reshape"
      ],
      "metadata": {
        "id": "tcagZBmKx4s8"
      },
      "execution_count": 38,
      "outputs": []
    },
    {
      "cell_type": "code",
      "source": [
        "num_classes = 25\n",
        "\n",
        "def malware_steal_model():\n",
        "    # se crea un nuevo modelo para la data robada\n",
        "    Malware_model = Sequential(Conv2D(30, kernel_size=(3, 3),\n",
        "                     activation='relu',\n",
        "                     input_shape=(128,128,3)))\n",
        "   \n",
        "    Malware_model.add(MaxPooling2D(pool_size=(2, 2)))\n",
        "    Malware_model.add(Conv2D(15, (3, 3), activation='relu'))\n",
        "    Malware_model.add(MaxPooling2D(pool_size=(2, 2)))\n",
        "    Malware_model.add(Dropout(0.25))\n",
        "    Malware_model.add(Flatten())\n",
        "    Malware_model.add(Dense(128, activation='relu'))\n",
        "    Malware_model.add(Dropout(0.5))\n",
        "    Malware_model.add(Dense(50, activation='relu'))\n",
        "    Malware_model.add(Dense(num_classes, activation='softmax'))\n",
        "    Malware_model.compile(loss='categorical_crossentropy', optimizer = 'adam', metrics=['accuracy'])\n",
        "    return Malware_model"
      ],
      "metadata": {
        "id": "B0MQiIfBxcLT"
      },
      "execution_count": 39,
      "outputs": []
    },
    {
      "cell_type": "code",
      "source": [
        "im_shape = X_train[0].shape\n",
        "def get_model(num_classes=10, c1=32, c2=128, d1=64):\n",
        "    model = Sequential()\n",
        "    model.add(Conv2D(c1, kernel_size=(3, 3), activation='relu', input_shape=im_shape))\n",
        "    model.add(Conv2D(c2, (3, 3), activation='relu'))\n",
        "    model.add(MaxPooling2D(pool_size=(2, 2)))\n",
        "    model.add(Flatten())\n",
        "    model.add(Dense(d1, activation='relu'))\n",
        "    model.add(Dense(num_classes, activation='softmax'))\n",
        "    model.compile(loss=keras.losses.categorical_crossentropy, optimizer=\"sgd\",\n",
        "                          metrics=['accuracy'])\n",
        "    return model"
      ],
      "metadata": {
        "id": "Lfzsoaoj585O"
      },
      "execution_count": 40,
      "outputs": []
    },
    {
      "cell_type": "code",
      "source": [
        "\n",
        "results = []\n",
        "for len_steal in [250, 500, 1000, 2000, 4000, 5000]:\n",
        "    indices = np.random.permutation(len(x_test0))\n",
        "    x_steal = x_test0[indices[:len_steal]]\n",
        "    y_steal = y_test0[indices[:len_steal]]\n",
        "    x_test = x_test0[indices[len_steal:]]\n",
        "    y_test = y_test0[indices[len_steal:]]\n",
        "\n",
        "    for name, attack in attack_catalogue.items():\n",
        "        model_stolen = malware_steal_model()\n",
        "        classifier_stolen = KerasClassifier(model_stolen, clip_values=(0, 1), use_logits=False)\n",
        "        classifier_stolen = attack.extract(x_steal, y_steal, thieved_classifier=classifier_stolen)\n",
        "        acc = classifier_stolen._model.evaluate(x_test, y_test)[1]\n",
        "        print(name, \":\", acc)\n",
        "        results.append((name, len_steal, acc))"
      ],
      "metadata": {
        "colab": {
          "base_uri": "https://localhost:8080/",
          "height": 1000
        },
        "id": "mHSm0NZFxUdi",
        "outputId": "830ddc4d-97bf-4e1f-a81c-4c16e9ceb016"
      },
      "execution_count": 41,
      "outputs": [
        {
          "output_type": "stream",
          "name": "stderr",
          "text": [
            "/usr/local/lib/python3.7/dist-packages/keras/engine/training_v1.py:2079: UserWarning: `Model.state_updates` will be removed in a future version. This property should not be used in TensorFlow 2.0, as `updates` are applied automatically.\n",
            "  updates=self.state_updates,\n"
          ]
        },
        {
          "output_type": "stream",
          "name": "stdout",
          "text": [
            "Train on 250 samples\n",
            "Epoch 1/4\n",
            "250/250 [==============================] - 4s 18ms/sample - loss: 3.3020 - accuracy: 0.1680\n",
            "Epoch 2/4\n",
            "250/250 [==============================] - 4s 17ms/sample - loss: 2.7415 - accuracy: 0.2440\n",
            "Epoch 3/4\n",
            "250/250 [==============================] - 4s 17ms/sample - loss: 2.5403 - accuracy: 0.2520\n",
            "Epoch 4/4\n",
            "250/250 [==============================] - 4s 18ms/sample - loss: 2.3477 - accuracy: 0.3120\n"
          ]
        },
        {
          "output_type": "stream",
          "name": "stderr",
          "text": [
            "/usr/local/lib/python3.7/dist-packages/keras/engine/training_v1.py:2057: UserWarning: `Model.state_updates` will be removed in a future version. This property should not be used in TensorFlow 2.0, as `updates` are applied automatically.\n",
            "  updates = self.state_updates\n"
          ]
        },
        {
          "output_type": "stream",
          "name": "stdout",
          "text": [
            "Probabilistic CopycatCNN : 0.4130094\n",
            "Train on 250 samples\n",
            "Epoch 1/4\n",
            "250/250 [==============================] - 4s 18ms/sample - loss: 3.4354 - accuracy: 0.1280\n",
            "Epoch 2/4\n",
            "250/250 [==============================] - 4s 17ms/sample - loss: 2.8501 - accuracy: 0.2080\n",
            "Epoch 3/4\n",
            "250/250 [==============================] - 4s 17ms/sample - loss: 2.7468 - accuracy: 0.2000\n",
            "Epoch 4/4\n",
            "250/250 [==============================] - 4s 17ms/sample - loss: 2.5554 - accuracy: 0.2720\n",
            "Argmax CopycatCNN : 0.31543887\n",
            "Probabilistic KnockoffNets : 0.45141065\n",
            "Argmax KnockoffNets : 0.1637931\n",
            "Train on 500 samples\n",
            "Epoch 1/4\n",
            "500/500 [==============================] - 9s 18ms/sample - loss: 2.7346 - accuracy: 0.2660\n",
            "Epoch 2/4\n",
            "500/500 [==============================] - 9s 17ms/sample - loss: 2.1813 - accuracy: 0.3680\n",
            "Epoch 3/4\n",
            "500/500 [==============================] - 9s 17ms/sample - loss: 1.7764 - accuracy: 0.4580\n",
            "Epoch 4/4\n",
            "500/500 [==============================] - 9s 17ms/sample - loss: 1.4818 - accuracy: 0.5600\n",
            "Probabilistic CopycatCNN : 0.7046047\n",
            "Train on 500 samples\n",
            "Epoch 1/4\n",
            "500/500 [==============================] - 9s 18ms/sample - loss: 2.9283 - accuracy: 0.1960\n",
            "Epoch 2/4\n",
            "500/500 [==============================] - 9s 17ms/sample - loss: 2.3593 - accuracy: 0.3160\n",
            "Epoch 3/4\n",
            "500/500 [==============================] - 9s 17ms/sample - loss: 2.0421 - accuracy: 0.4140\n",
            "Epoch 4/4\n",
            "500/500 [==============================] - 9s 17ms/sample - loss: 1.7724 - accuracy: 0.4160\n",
            "Argmax CopycatCNN : 0.48913988\n",
            "Probabilistic KnockoffNets : 0.50608164\n",
            "Argmax KnockoffNets : 0.50260645\n",
            "Train on 1000 samples\n",
            "Epoch 1/4\n",
            "1000/1000 [==============================] - 18s 18ms/sample - loss: 2.7772 - accuracy: 0.2480\n",
            "Epoch 2/4\n",
            "1000/1000 [==============================] - 17s 17ms/sample - loss: 2.0117 - accuracy: 0.3860\n",
            "Epoch 3/4\n",
            "1000/1000 [==============================] - 17s 17ms/sample - loss: 1.6140 - accuracy: 0.4800\n",
            "Epoch 4/4\n",
            "1000/1000 [==============================] - 18s 18ms/sample - loss: 1.4101 - accuracy: 0.5360\n",
            "Probabilistic CopycatCNN : 0.75860155\n",
            "Train on 1000 samples\n",
            "Epoch 1/4\n",
            "1000/1000 [==============================] - 18s 18ms/sample - loss: 2.9422 - accuracy: 0.2250\n",
            "Epoch 2/4\n",
            "1000/1000 [==============================] - 17s 17ms/sample - loss: 2.2995 - accuracy: 0.3400\n",
            "Epoch 3/4\n",
            "1000/1000 [==============================] - 17s 17ms/sample - loss: 1.8884 - accuracy: 0.4260\n",
            "Epoch 4/4\n",
            "1000/1000 [==============================] - 17s 17ms/sample - loss: 1.6067 - accuracy: 0.4500\n",
            "Argmax CopycatCNN : 0.527747\n",
            "Probabilistic KnockoffNets : 0.65760267\n",
            "Argmax KnockoffNets : 0.6403996\n",
            "Train on 2000 samples\n",
            "Epoch 1/4\n",
            "2000/2000 [==============================] - 35s 18ms/sample - loss: 2.4847 - accuracy: 0.3165\n",
            "Epoch 2/4\n",
            "2000/2000 [==============================] - 35s 18ms/sample - loss: 1.6242 - accuracy: 0.4930\n",
            "Epoch 3/4\n",
            "2000/2000 [==============================] - 35s 18ms/sample - loss: 1.2045 - accuracy: 0.6120\n",
            "Epoch 4/4\n",
            "2000/2000 [==============================] - 35s 17ms/sample - loss: 0.9106 - accuracy: 0.7125\n",
            "Probabilistic CopycatCNN : 0.851621\n",
            "Train on 2000 samples\n",
            "Epoch 1/4\n",
            "2000/2000 [==============================] - 35s 18ms/sample - loss: 2.5433 - accuracy: 0.3025\n",
            "Epoch 2/4\n",
            "2000/2000 [==============================] - 35s 17ms/sample - loss: 1.6436 - accuracy: 0.5025\n",
            "Epoch 3/4\n",
            "2000/2000 [==============================] - 35s 18ms/sample - loss: 1.1727 - accuracy: 0.6620\n",
            "Epoch 4/4\n",
            "2000/2000 [==============================] - 35s 18ms/sample - loss: 0.8662 - accuracy: 0.7525\n",
            "Argmax CopycatCNN : 0.85037404\n",
            "Probabilistic KnockoffNets : 0.8478803\n",
            "Argmax KnockoffNets : 0.8952618\n",
            "Train on 2802 samples\n",
            "Epoch 1/4\n",
            "2802/2802 [==============================] - 49s 18ms/sample - loss: 2.2882 - accuracy: 0.3683\n",
            "Epoch 2/4\n",
            "2802/2802 [==============================] - 49s 17ms/sample - loss: 1.3325 - accuracy: 0.5821\n",
            "Epoch 3/4\n",
            "2802/2802 [==============================] - 52s 19ms/sample - loss: 0.9105 - accuracy: 0.7209\n",
            "Epoch 4/4\n",
            "2802/2802 [==============================] - 48s 17ms/sample - loss: 0.6959 - accuracy: 0.7812\n"
          ]
        },
        {
          "output_type": "error",
          "ename": "ValueError",
          "evalue": "ignored",
          "traceback": [
            "\u001b[0;31m---------------------------------------------------------------------------\u001b[0m",
            "\u001b[0;31mValueError\u001b[0m                                Traceback (most recent call last)",
            "\u001b[0;32m<ipython-input-41-26ca115da006>\u001b[0m in \u001b[0;36m<module>\u001b[0;34m()\u001b[0m\n\u001b[1;32m     12\u001b[0m         \u001b[0mclassifier_stolen\u001b[0m \u001b[0;34m=\u001b[0m \u001b[0mKerasClassifier\u001b[0m\u001b[0;34m(\u001b[0m\u001b[0mmodel_stolen\u001b[0m\u001b[0;34m,\u001b[0m \u001b[0mclip_values\u001b[0m\u001b[0;34m=\u001b[0m\u001b[0;34m(\u001b[0m\u001b[0;36m0\u001b[0m\u001b[0;34m,\u001b[0m \u001b[0;36m1\u001b[0m\u001b[0;34m)\u001b[0m\u001b[0;34m,\u001b[0m \u001b[0muse_logits\u001b[0m\u001b[0;34m=\u001b[0m\u001b[0;32mFalse\u001b[0m\u001b[0;34m)\u001b[0m\u001b[0;34m\u001b[0m\u001b[0;34m\u001b[0m\u001b[0m\n\u001b[1;32m     13\u001b[0m         \u001b[0mclassifier_stolen\u001b[0m \u001b[0;34m=\u001b[0m \u001b[0mattack\u001b[0m\u001b[0;34m.\u001b[0m\u001b[0mextract\u001b[0m\u001b[0;34m(\u001b[0m\u001b[0mx_steal\u001b[0m\u001b[0;34m,\u001b[0m \u001b[0my_steal\u001b[0m\u001b[0;34m,\u001b[0m \u001b[0mthieved_classifier\u001b[0m\u001b[0;34m=\u001b[0m\u001b[0mclassifier_stolen\u001b[0m\u001b[0;34m)\u001b[0m\u001b[0;34m\u001b[0m\u001b[0;34m\u001b[0m\u001b[0m\n\u001b[0;32m---> 14\u001b[0;31m         \u001b[0macc\u001b[0m \u001b[0;34m=\u001b[0m \u001b[0mclassifier_stolen\u001b[0m\u001b[0;34m.\u001b[0m\u001b[0m_model\u001b[0m\u001b[0;34m.\u001b[0m\u001b[0mevaluate\u001b[0m\u001b[0;34m(\u001b[0m\u001b[0mx_test\u001b[0m\u001b[0;34m,\u001b[0m \u001b[0my_test\u001b[0m\u001b[0;34m)\u001b[0m\u001b[0;34m[\u001b[0m\u001b[0;36m1\u001b[0m\u001b[0;34m]\u001b[0m\u001b[0;34m\u001b[0m\u001b[0;34m\u001b[0m\u001b[0m\n\u001b[0m\u001b[1;32m     15\u001b[0m         \u001b[0mprint\u001b[0m\u001b[0;34m(\u001b[0m\u001b[0mname\u001b[0m\u001b[0;34m,\u001b[0m \u001b[0;34m\":\"\u001b[0m\u001b[0;34m,\u001b[0m \u001b[0macc\u001b[0m\u001b[0;34m)\u001b[0m\u001b[0;34m\u001b[0m\u001b[0;34m\u001b[0m\u001b[0m\n\u001b[1;32m     16\u001b[0m         \u001b[0mresults\u001b[0m\u001b[0;34m.\u001b[0m\u001b[0mappend\u001b[0m\u001b[0;34m(\u001b[0m\u001b[0;34m(\u001b[0m\u001b[0mname\u001b[0m\u001b[0;34m,\u001b[0m \u001b[0mlen_steal\u001b[0m\u001b[0;34m,\u001b[0m \u001b[0macc\u001b[0m\u001b[0;34m)\u001b[0m\u001b[0;34m)\u001b[0m\u001b[0;34m\u001b[0m\u001b[0;34m\u001b[0m\u001b[0m\n",
            "\u001b[0;32m/usr/local/lib/python3.7/dist-packages/keras/engine/training_v1.py\u001b[0m in \u001b[0;36mevaluate\u001b[0;34m(self, x, y, batch_size, verbose, sample_weight, steps, callbacks, max_queue_size, workers, use_multiprocessing)\u001b[0m\n\u001b[1;32m    900\u001b[0m         \u001b[0mmax_queue_size\u001b[0m\u001b[0;34m=\u001b[0m\u001b[0mmax_queue_size\u001b[0m\u001b[0;34m,\u001b[0m\u001b[0;34m\u001b[0m\u001b[0;34m\u001b[0m\u001b[0m\n\u001b[1;32m    901\u001b[0m         \u001b[0mworkers\u001b[0m\u001b[0;34m=\u001b[0m\u001b[0mworkers\u001b[0m\u001b[0;34m,\u001b[0m\u001b[0;34m\u001b[0m\u001b[0;34m\u001b[0m\u001b[0m\n\u001b[0;32m--> 902\u001b[0;31m         use_multiprocessing=use_multiprocessing)\n\u001b[0m\u001b[1;32m    903\u001b[0m \u001b[0;34m\u001b[0m\u001b[0m\n\u001b[1;32m    904\u001b[0m   def predict(self,\n",
            "\u001b[0;32m/usr/local/lib/python3.7/dist-packages/keras/engine/training_arrays_v1.py\u001b[0m in \u001b[0;36mevaluate\u001b[0;34m(self, model, x, y, batch_size, verbose, sample_weight, steps, callbacks, **kwargs)\u001b[0m\n\u001b[1;32m    685\u001b[0m         \u001b[0mverbose\u001b[0m\u001b[0;34m=\u001b[0m\u001b[0mverbose\u001b[0m\u001b[0;34m,\u001b[0m\u001b[0;34m\u001b[0m\u001b[0;34m\u001b[0m\u001b[0m\n\u001b[1;32m    686\u001b[0m         \u001b[0msteps\u001b[0m\u001b[0;34m=\u001b[0m\u001b[0msteps\u001b[0m\u001b[0;34m,\u001b[0m\u001b[0;34m\u001b[0m\u001b[0;34m\u001b[0m\u001b[0m\n\u001b[0;32m--> 687\u001b[0;31m         callbacks=callbacks)\n\u001b[0m\u001b[1;32m    688\u001b[0m \u001b[0;34m\u001b[0m\u001b[0m\n\u001b[1;32m    689\u001b[0m   def predict(self,\n",
            "\u001b[0;32m/usr/local/lib/python3.7/dist-packages/keras/engine/training_arrays_v1.py\u001b[0m in \u001b[0;36mmodel_iteration\u001b[0;34m(model, inputs, targets, sample_weights, batch_size, epochs, verbose, callbacks, val_inputs, val_targets, val_sample_weights, shuffle, initial_epoch, steps_per_epoch, validation_steps, validation_freq, mode, validation_in_fit, prepared_feed_values_from_dataset, steps_name, **kwargs)\u001b[0m\n\u001b[1;32m    391\u001b[0m           \u001b[0;32mbreak\u001b[0m\u001b[0;34m\u001b[0m\u001b[0;34m\u001b[0m\u001b[0m\n\u001b[1;32m    392\u001b[0m \u001b[0;34m\u001b[0m\u001b[0m\n\u001b[0;32m--> 393\u001b[0;31m     \u001b[0maggregator\u001b[0m\u001b[0;34m.\u001b[0m\u001b[0mfinalize\u001b[0m\u001b[0;34m(\u001b[0m\u001b[0;34m)\u001b[0m\u001b[0;34m\u001b[0m\u001b[0;34m\u001b[0m\u001b[0m\n\u001b[0m\u001b[1;32m    394\u001b[0m     \u001b[0mresults\u001b[0m \u001b[0;34m=\u001b[0m \u001b[0maggregator\u001b[0m\u001b[0;34m.\u001b[0m\u001b[0mresults\u001b[0m\u001b[0;34m\u001b[0m\u001b[0;34m\u001b[0m\u001b[0m\n\u001b[1;32m    395\u001b[0m     \u001b[0mepoch_logs\u001b[0m \u001b[0;34m=\u001b[0m \u001b[0mcbks\u001b[0m\u001b[0;34m.\u001b[0m\u001b[0mmake_logs\u001b[0m\u001b[0;34m(\u001b[0m\u001b[0mmodel\u001b[0m\u001b[0;34m,\u001b[0m \u001b[0mepoch_logs\u001b[0m\u001b[0;34m,\u001b[0m \u001b[0mresults\u001b[0m\u001b[0;34m,\u001b[0m \u001b[0mmode\u001b[0m\u001b[0;34m)\u001b[0m\u001b[0;34m\u001b[0m\u001b[0;34m\u001b[0m\u001b[0m\n",
            "\u001b[0;32m/usr/local/lib/python3.7/dist-packages/keras/engine/training_utils_v1.py\u001b[0m in \u001b[0;36mfinalize\u001b[0;34m(self)\u001b[0m\n\u001b[1;32m    125\u001b[0m   \u001b[0;32mdef\u001b[0m \u001b[0mfinalize\u001b[0m\u001b[0;34m(\u001b[0m\u001b[0mself\u001b[0m\u001b[0;34m)\u001b[0m\u001b[0;34m:\u001b[0m\u001b[0;34m\u001b[0m\u001b[0;34m\u001b[0m\u001b[0m\n\u001b[1;32m    126\u001b[0m     \u001b[0;32mif\u001b[0m \u001b[0;32mnot\u001b[0m \u001b[0mself\u001b[0m\u001b[0;34m.\u001b[0m\u001b[0mresults\u001b[0m\u001b[0;34m:\u001b[0m\u001b[0;34m\u001b[0m\u001b[0;34m\u001b[0m\u001b[0m\n\u001b[0;32m--> 127\u001b[0;31m       \u001b[0;32mraise\u001b[0m \u001b[0mValueError\u001b[0m\u001b[0;34m(\u001b[0m\u001b[0;34m'Empty training data.'\u001b[0m\u001b[0;34m)\u001b[0m\u001b[0;34m\u001b[0m\u001b[0;34m\u001b[0m\u001b[0m\n\u001b[0m\u001b[1;32m    128\u001b[0m     \u001b[0mself\u001b[0m\u001b[0;34m.\u001b[0m\u001b[0mresults\u001b[0m\u001b[0;34m[\u001b[0m\u001b[0;36m0\u001b[0m\u001b[0;34m]\u001b[0m \u001b[0;34m/=\u001b[0m \u001b[0;34m(\u001b[0m\u001b[0mself\u001b[0m\u001b[0;34m.\u001b[0m\u001b[0mnum_samples\u001b[0m \u001b[0;32mor\u001b[0m \u001b[0mself\u001b[0m\u001b[0;34m.\u001b[0m\u001b[0msteps\u001b[0m\u001b[0;34m)\u001b[0m\u001b[0;34m\u001b[0m\u001b[0;34m\u001b[0m\u001b[0m\n\u001b[1;32m    129\u001b[0m \u001b[0;34m\u001b[0m\u001b[0m\n",
            "\u001b[0;31mValueError\u001b[0m: Empty training data."
          ]
        }
      ]
    },
    {
      "cell_type": "code",
      "source": [
        ""
      ],
      "metadata": {
        "id": "PzHiL8dZ58Dn"
      },
      "execution_count": null,
      "outputs": []
    },
    {
      "cell_type": "markdown",
      "source": [
        "Metricas"
      ],
      "metadata": {
        "id": "jkdqzzZeUuG3"
      }
    },
    {
      "cell_type": "code",
      "source": [
        "import matplotlib.pyplot as plt"
      ],
      "metadata": {
        "id": "LdeeboNNdoIC"
      },
      "execution_count": 44,
      "outputs": []
    },
    {
      "cell_type": "code",
      "source": [
        "#Comparacion del modelo obtenido, versus el damano del dataset\n",
        "#Esto tambien obtenido del repo mencionado previamente \n",
        "\n",
        "import pandas as pd\n",
        "df = pd.DataFrame(results, columns=('Method Name', 'Stealing Dataset Size', 'Accuracy'))\n",
        "fig, ax = plt.subplots(figsize=(8,6))\n",
        "ax.set_xlabel(\"Stealing Dataset Size\")\n",
        "ax.set_ylabel(\"Stolen Model Accuracy\")\n",
        "for name, group in df.groupby(\"Method Name\"):\n",
        "    group.plot(1, 2, ax=ax, label=name)\n",
        "plt.show()"
      ],
      "metadata": {
        "colab": {
          "base_uri": "https://localhost:8080/",
          "height": 388
        },
        "id": "7xDWddo7xUOb",
        "outputId": "2563ed99-98c0-4cb5-ee00-cf5f724435f2"
      },
      "execution_count": 45,
      "outputs": [
        {
          "output_type": "display_data",
          "data": {
            "text/plain": [
              "<Figure size 576x432 with 1 Axes>"
            ],
            "image/png": "[encoded data removed]"
          },
          "metadata": {
            "needs_background": "light"
          }
        }
      ]
    },
    {
      "cell_type": "code",
      "source": [
        ""
      ],
      "metadata": {
        "id": "CKtQSbBfdlH6"
      },
      "execution_count": null,
      "outputs": []
    },
    {
      "cell_type": "markdown",
      "source": [
        "Defense Layer\n"
      ],
      "metadata": {
        "id": "tqGO_V_HXW4B"
      }
    },
    {
      "cell_type": "code",
      "source": [
        "from art.defences.postprocessor import ReverseSigmoid"
      ],
      "metadata": {
        "id": "AUCUXL7weAAr"
      },
      "execution_count": 47,
      "outputs": []
    },
    {
      "cell_type": "code",
      "source": [
        "# Prepare the defense layer.\n",
        "postprocessor = ReverseSigmoid(beta=1.0, gamma=0.2)\n",
        "classifier_protected = KerasClassifier(Modelmalware, clip_values=(0, 1), use_logits=False, postprocessing_defences=postprocessor)\n",
        "\n",
        "# Below is used by `FunctionallyEquivalentExtraction`.\n",
        "model_flat = Sequential([InputLayer([128, 128, 3]), Reshape([128, 128, 3]), Modelmalware])\n",
        "model_flat.compile('sgd', 'categorical_crossentropy', ['accuracy'])\n",
        "classifier_flat_protected = KerasClassifier(model_flat, clip_values=(0, 1), use_logits=False, postprocessing_defences=postprocessor)"
      ],
      "metadata": {
        "id": "Ago1OpLtXWDL"
      },
      "execution_count": 50,
      "outputs": []
    },
    {
      "cell_type": "markdown",
      "source": [
        "Comparacion entre ambos\n"
      ],
      "metadata": {
        "id": "8ZYm24bUZu6w"
      }
    },
    {
      "cell_type": "code",
      "source": [
        "num_epochs = 4\n",
        "len_steal = 5000\n",
        "attack_catalogue = {\n",
        "                    \"Probabilistic CopycatCNN (vs. Protected)\": CopycatCNN(classifier=classifier_protected,\n",
        "                                              batch_size_fit=64,\n",
        "                                              batch_size_query=64,\n",
        "                                              nb_epochs=num_epochs,\n",
        "                                              nb_stolen=len_steal,\n",
        "                                              use_probability=True),\n",
        "                    \"Argmax CopycatCNN (vs. Protected)\": CopycatCNN(classifier=classifier_protected,\n",
        "                                              batch_size_fit=64,\n",
        "                                              batch_size_query=64,\n",
        "                                              nb_epochs=num_epochs,\n",
        "                                              nb_stolen=len_steal,\n",
        "                                              use_probability=False),\n",
        "                    \"Probabilistic KnockoffNets (vs. Protected)\": KnockoffNets(classifier=classifier_protected,\n",
        "                                              batch_size_fit=64,\n",
        "                                              batch_size_query=64,\n",
        "                                              nb_epochs=num_epochs,\n",
        "                                              nb_stolen=len_steal,\n",
        "                                              use_probability=True),\n",
        "                    \"Argmax KnockoffNets (vs. Protected)\": KnockoffNets(classifier=classifier_protected,\n",
        "                                              batch_size_fit=64,\n",
        "                                              batch_size_query=64,\n",
        "                                              nb_epochs=num_epochs,\n",
        "                                              nb_stolen=len_steal,\n",
        "                                              use_probability=False),\n",
        "}"
      ],
      "metadata": {
        "id": "2_N9AjapZunf"
      },
      "execution_count": 51,
      "outputs": []
    },
    {
      "cell_type": "code",
      "source": [
        "X_test0 = X_test\n",
        "y_test0 = y_test"
      ],
      "metadata": {
        "id": "o36PEfhff9Vy"
      },
      "execution_count": 60,
      "outputs": []
    },
    {
      "cell_type": "code",
      "source": [
        "\n",
        "results_protected = []\n",
        "for len_steal in [250, 500, 1000, 2000, 3000, 4000]:\n",
        "    indices = np.random.permutation(len(X_test0))\n",
        "    x_steal = X_test0[indices[:len_steal]]\n",
        "    y_steal = y_test0[indices[:len_steal]]\n",
        "    x_test = X_test0[indices[len_steal:]]\n",
        "    y_test = y_test0[indices[len_steal:]]\n",
        "\n",
        "    for name, attack in attack_catalogue.items():\n",
        "        model_stolen = malware_steal_model()\n",
        "        classifier_stolen = KerasClassifier(model_stolen, clip_values=(0, 1), use_logits=False)\n",
        "        if name==\"FunctionallyEquivalentExtraction\":\n",
        "            # Se modifica el shape de la data \n",
        "            classifier_stolen = attack.extract(np.reshape(x_steal, [len(x_steal), -1]), y_steal, thieved_classifier=classifier_stolen)\n",
        "        else:\n",
        "            classifier_stolen = attack.extract(x_steal, y_steal, thieved_classifier=classifier_stolen)\n",
        "        \n",
        "        acc = classifier_stolen._model.evaluate(x_test, y_test)[1]\n",
        "        print(name, \":\", acc)\n",
        "        results_protected.append((name, len_steal, acc))"
      ],
      "metadata": {
        "colab": {
          "base_uri": "https://localhost:8080/",
          "height": 1000
        },
        "id": "w6-nR-FUZpar",
        "outputId": "0f0b7e9a-fc10-4c22-ac37-d48e8b56a744"
      },
      "execution_count": 61,
      "outputs": [
        {
          "output_type": "stream",
          "name": "stderr",
          "text": [
            "/usr/local/lib/python3.7/dist-packages/art/defences/postprocessor/reverse_sigmoid.py:75: RuntimeWarning: divide by zero encountered in log\n",
            "  perturbation_r = self.beta * (sigmoid(-self.gamma * np.log((1.0 - preds_clipped) / preds_clipped)) - 0.5)\n"
          ]
        },
        {
          "output_type": "stream",
          "name": "stdout",
          "text": [
            "Train on 250 samples\n",
            "Epoch 1/4\n",
            "250/250 [==============================] - 5s 20ms/sample - loss: 3.2712 - accuracy: 0.0320\n",
            "Epoch 2/4\n",
            "250/250 [==============================] - 4s 18ms/sample - loss: 3.2195 - accuracy: 0.0440\n",
            "Epoch 3/4\n",
            "250/250 [==============================] - 4s 17ms/sample - loss: 3.2189 - accuracy: 0.0360\n",
            "Epoch 4/4\n",
            "250/250 [==============================] - 4s 18ms/sample - loss: 3.2188 - accuracy: 0.0200\n"
          ]
        },
        {
          "output_type": "stream",
          "name": "stderr",
          "text": [
            "/usr/local/lib/python3.7/dist-packages/keras/engine/training_v1.py:2057: UserWarning: `Model.state_updates` will be removed in a future version. This property should not be used in TensorFlow 2.0, as `updates` are applied automatically.\n",
            "  updates = self.state_updates\n"
          ]
        },
        {
          "output_type": "stream",
          "name": "stdout",
          "text": [
            "Probabilistic CopycatCNN (vs. Protected) : 0.00822884\n",
            "Train on 250 samples\n",
            "Epoch 1/4\n",
            "250/250 [==============================] - 5s 20ms/sample - loss: 3.4522 - accuracy: 0.1920\n",
            "Epoch 2/4\n",
            "250/250 [==============================] - 4s 18ms/sample - loss: 2.8662 - accuracy: 0.2480\n",
            "Epoch 3/4\n",
            "250/250 [==============================] - 4s 17ms/sample - loss: 2.6973 - accuracy: 0.3160\n",
            "Epoch 4/4\n",
            "250/250 [==============================] - 4s 17ms/sample - loss: 2.5326 - accuracy: 0.3200\n",
            "Argmax CopycatCNN (vs. Protected) : 0.31034482\n",
            "Probabilistic KnockoffNets (vs. Protected) : 0.01606583\n",
            "Argmax KnockoffNets (vs. Protected) : 0.39655173\n",
            "Train on 500 samples\n",
            "Epoch 1/4\n",
            "500/500 [==============================] - 9s 18ms/sample - loss: 3.2726 - accuracy: 0.0800\n",
            "Epoch 2/4\n",
            "500/500 [==============================] - 9s 17ms/sample - loss: 3.2190 - accuracy: 0.0520\n",
            "Epoch 3/4\n",
            "500/500 [==============================] - 9s 17ms/sample - loss: 3.2188 - accuracy: 0.2020\n",
            "Epoch 4/4\n",
            "500/500 [==============================] - 8s 17ms/sample - loss: 3.2187 - accuracy: 0.2980\n",
            "Probabilistic CopycatCNN (vs. Protected) : 0.1876629\n",
            "Train on 500 samples\n",
            "Epoch 1/4\n",
            "500/500 [==============================] - 9s 18ms/sample - loss: 3.1916 - accuracy: 0.1320\n",
            "Epoch 2/4\n",
            "500/500 [==============================] - 9s 17ms/sample - loss: 2.6584 - accuracy: 0.2780\n",
            "Epoch 3/4\n",
            "500/500 [==============================] - 8s 17ms/sample - loss: 2.3848 - accuracy: 0.3600\n",
            "Epoch 4/4\n",
            "500/500 [==============================] - 8s 17ms/sample - loss: 2.1544 - accuracy: 0.3520\n",
            "Argmax CopycatCNN (vs. Protected) : 0.43614247\n",
            "Probabilistic KnockoffNets (vs. Protected) : 0.024326673\n",
            "Argmax KnockoffNets (vs. Protected) : 0.55125976\n",
            "Train on 1000 samples\n",
            "Epoch 1/4\n",
            "1000/1000 [==============================] - 18s 18ms/sample - loss: 3.2675 - accuracy: 0.0470\n",
            "Epoch 2/4\n",
            "1000/1000 [==============================] - 18s 18ms/sample - loss: 3.2189 - accuracy: 0.3000\n",
            "Epoch 3/4\n",
            "1000/1000 [==============================] - 17s 17ms/sample - loss: 3.2188 - accuracy: 0.3020\n",
            "Epoch 4/4\n",
            "1000/1000 [==============================] - 17s 17ms/sample - loss: 3.2188 - accuracy: 0.3020\n",
            "Probabilistic CopycatCNN (vs. Protected) : 0.3163152\n",
            "Train on 1000 samples\n",
            "Epoch 1/4\n",
            "1000/1000 [==============================] - 18s 18ms/sample - loss: 2.5556 - accuracy: 0.2850\n",
            "Epoch 2/4\n",
            "1000/1000 [==============================] - 17s 17ms/sample - loss: 1.9851 - accuracy: 0.3770\n",
            "Epoch 3/4\n",
            "1000/1000 [==============================] - 17s 17ms/sample - loss: 1.6607 - accuracy: 0.4540\n",
            "Epoch 4/4\n",
            "1000/1000 [==============================] - 17s 17ms/sample - loss: 1.3708 - accuracy: 0.5480\n",
            "Argmax CopycatCNN (vs. Protected) : 0.6209767\n",
            "Probabilistic KnockoffNets (vs. Protected) : 0.3163152\n",
            "Argmax KnockoffNets (vs. Protected) : 0.67591566\n",
            "Train on 2000 samples\n",
            "Epoch 1/4\n",
            "2000/2000 [==============================] - 36s 18ms/sample - loss: 3.2300 - accuracy: 0.1345\n",
            "Epoch 2/4\n",
            "2000/2000 [==============================] - 35s 18ms/sample - loss: 3.2186 - accuracy: 0.3770\n",
            "Epoch 3/4\n",
            "2000/2000 [==============================] - 35s 17ms/sample - loss: 3.2185 - accuracy: 0.3865\n",
            "Epoch 4/4\n",
            "2000/2000 [==============================] - 35s 18ms/sample - loss: 3.2184 - accuracy: 0.3910\n",
            "Probabilistic CopycatCNN (vs. Protected) : 0.39276809\n",
            "Train on 2000 samples\n",
            "Epoch 1/4\n",
            "2000/2000 [==============================] - 36s 18ms/sample - loss: 2.6744 - accuracy: 0.2965\n",
            "Epoch 2/4\n",
            "2000/2000 [==============================] - 35s 18ms/sample - loss: 1.9507 - accuracy: 0.4125\n",
            "Epoch 3/4\n",
            "2000/2000 [==============================] - 35s 18ms/sample - loss: 1.5259 - accuracy: 0.4985\n",
            "Epoch 4/4\n",
            "2000/2000 [==============================] - 35s 18ms/sample - loss: 1.2554 - accuracy: 0.5875\n",
            "Argmax CopycatCNN (vs. Protected) : 0.66583544\n",
            "Probabilistic KnockoffNets (vs. Protected) : 0.31296757\n",
            "Argmax KnockoffNets (vs. Protected) : 0.83416456\n",
            "Train on 2802 samples\n",
            "Epoch 1/4\n",
            "2802/2802 [==============================] - 50s 18ms/sample - loss: 3.2298 - accuracy: 0.2084\n",
            "Epoch 2/4\n",
            "2802/2802 [==============================] - 49s 18ms/sample - loss: 3.2187 - accuracy: 0.3112\n",
            "Epoch 3/4\n",
            "2802/2802 [==============================] - 49s 18ms/sample - loss: 3.2186 - accuracy: 0.3112\n",
            "Epoch 4/4\n",
            "2802/2802 [==============================] - 49s 17ms/sample - loss: 3.2186 - accuracy: 0.3116\n"
          ]
        },
        {
          "output_type": "error",
          "ename": "ValueError",
          "evalue": "ignored",
          "traceback": [
            "\u001b[0;31m---------------------------------------------------------------------------\u001b[0m",
            "\u001b[0;31mValueError\u001b[0m                                Traceback (most recent call last)",
            "\u001b[0;32m<ipython-input-61-562dcd84378b>\u001b[0m in \u001b[0;36m<module>\u001b[0;34m()\u001b[0m\n\u001b[1;32m     17\u001b[0m             \u001b[0mclassifier_stolen\u001b[0m \u001b[0;34m=\u001b[0m \u001b[0mattack\u001b[0m\u001b[0;34m.\u001b[0m\u001b[0mextract\u001b[0m\u001b[0;34m(\u001b[0m\u001b[0mx_steal\u001b[0m\u001b[0;34m,\u001b[0m \u001b[0my_steal\u001b[0m\u001b[0;34m,\u001b[0m \u001b[0mthieved_classifier\u001b[0m\u001b[0;34m=\u001b[0m\u001b[0mclassifier_stolen\u001b[0m\u001b[0;34m)\u001b[0m\u001b[0;34m\u001b[0m\u001b[0;34m\u001b[0m\u001b[0m\n\u001b[1;32m     18\u001b[0m \u001b[0;34m\u001b[0m\u001b[0m\n\u001b[0;32m---> 19\u001b[0;31m         \u001b[0macc\u001b[0m \u001b[0;34m=\u001b[0m \u001b[0mclassifier_stolen\u001b[0m\u001b[0;34m.\u001b[0m\u001b[0m_model\u001b[0m\u001b[0;34m.\u001b[0m\u001b[0mevaluate\u001b[0m\u001b[0;34m(\u001b[0m\u001b[0mx_test\u001b[0m\u001b[0;34m,\u001b[0m \u001b[0my_test\u001b[0m\u001b[0;34m)\u001b[0m\u001b[0;34m[\u001b[0m\u001b[0;36m1\u001b[0m\u001b[0;34m]\u001b[0m\u001b[0;34m\u001b[0m\u001b[0;34m\u001b[0m\u001b[0m\n\u001b[0m\u001b[1;32m     20\u001b[0m         \u001b[0mprint\u001b[0m\u001b[0;34m(\u001b[0m\u001b[0mname\u001b[0m\u001b[0;34m,\u001b[0m \u001b[0;34m\":\"\u001b[0m\u001b[0;34m,\u001b[0m \u001b[0macc\u001b[0m\u001b[0;34m)\u001b[0m\u001b[0;34m\u001b[0m\u001b[0;34m\u001b[0m\u001b[0m\n\u001b[1;32m     21\u001b[0m         \u001b[0mresults_protected\u001b[0m\u001b[0;34m.\u001b[0m\u001b[0mappend\u001b[0m\u001b[0;34m(\u001b[0m\u001b[0;34m(\u001b[0m\u001b[0mname\u001b[0m\u001b[0;34m,\u001b[0m \u001b[0mlen_steal\u001b[0m\u001b[0;34m,\u001b[0m \u001b[0macc\u001b[0m\u001b[0;34m)\u001b[0m\u001b[0;34m)\u001b[0m\u001b[0;34m\u001b[0m\u001b[0;34m\u001b[0m\u001b[0m\n",
            "\u001b[0;32m/usr/local/lib/python3.7/dist-packages/keras/engine/training_v1.py\u001b[0m in \u001b[0;36mevaluate\u001b[0;34m(self, x, y, batch_size, verbose, sample_weight, steps, callbacks, max_queue_size, workers, use_multiprocessing)\u001b[0m\n\u001b[1;32m    900\u001b[0m         \u001b[0mmax_queue_size\u001b[0m\u001b[0;34m=\u001b[0m\u001b[0mmax_queue_size\u001b[0m\u001b[0;34m,\u001b[0m\u001b[0;34m\u001b[0m\u001b[0;34m\u001b[0m\u001b[0m\n\u001b[1;32m    901\u001b[0m         \u001b[0mworkers\u001b[0m\u001b[0;34m=\u001b[0m\u001b[0mworkers\u001b[0m\u001b[0;34m,\u001b[0m\u001b[0;34m\u001b[0m\u001b[0;34m\u001b[0m\u001b[0m\n\u001b[0;32m--> 902\u001b[0;31m         use_multiprocessing=use_multiprocessing)\n\u001b[0m\u001b[1;32m    903\u001b[0m \u001b[0;34m\u001b[0m\u001b[0m\n\u001b[1;32m    904\u001b[0m   def predict(self,\n",
            "\u001b[0;32m/usr/local/lib/python3.7/dist-packages/keras/engine/training_arrays_v1.py\u001b[0m in \u001b[0;36mevaluate\u001b[0;34m(self, model, x, y, batch_size, verbose, sample_weight, steps, callbacks, **kwargs)\u001b[0m\n\u001b[1;32m    685\u001b[0m         \u001b[0mverbose\u001b[0m\u001b[0;34m=\u001b[0m\u001b[0mverbose\u001b[0m\u001b[0;34m,\u001b[0m\u001b[0;34m\u001b[0m\u001b[0;34m\u001b[0m\u001b[0m\n\u001b[1;32m    686\u001b[0m         \u001b[0msteps\u001b[0m\u001b[0;34m=\u001b[0m\u001b[0msteps\u001b[0m\u001b[0;34m,\u001b[0m\u001b[0;34m\u001b[0m\u001b[0;34m\u001b[0m\u001b[0m\n\u001b[0;32m--> 687\u001b[0;31m         callbacks=callbacks)\n\u001b[0m\u001b[1;32m    688\u001b[0m \u001b[0;34m\u001b[0m\u001b[0m\n\u001b[1;32m    689\u001b[0m   def predict(self,\n",
            "\u001b[0;32m/usr/local/lib/python3.7/dist-packages/keras/engine/training_arrays_v1.py\u001b[0m in \u001b[0;36mmodel_iteration\u001b[0;34m(model, inputs, targets, sample_weights, batch_size, epochs, verbose, callbacks, val_inputs, val_targets, val_sample_weights, shuffle, initial_epoch, steps_per_epoch, validation_steps, validation_freq, mode, validation_in_fit, prepared_feed_values_from_dataset, steps_name, **kwargs)\u001b[0m\n\u001b[1;32m    391\u001b[0m           \u001b[0;32mbreak\u001b[0m\u001b[0;34m\u001b[0m\u001b[0;34m\u001b[0m\u001b[0m\n\u001b[1;32m    392\u001b[0m \u001b[0;34m\u001b[0m\u001b[0m\n\u001b[0;32m--> 393\u001b[0;31m     \u001b[0maggregator\u001b[0m\u001b[0;34m.\u001b[0m\u001b[0mfinalize\u001b[0m\u001b[0;34m(\u001b[0m\u001b[0;34m)\u001b[0m\u001b[0;34m\u001b[0m\u001b[0;34m\u001b[0m\u001b[0m\n\u001b[0m\u001b[1;32m    394\u001b[0m     \u001b[0mresults\u001b[0m \u001b[0;34m=\u001b[0m \u001b[0maggregator\u001b[0m\u001b[0;34m.\u001b[0m\u001b[0mresults\u001b[0m\u001b[0;34m\u001b[0m\u001b[0;34m\u001b[0m\u001b[0m\n\u001b[1;32m    395\u001b[0m     \u001b[0mepoch_logs\u001b[0m \u001b[0;34m=\u001b[0m \u001b[0mcbks\u001b[0m\u001b[0;34m.\u001b[0m\u001b[0mmake_logs\u001b[0m\u001b[0;34m(\u001b[0m\u001b[0mmodel\u001b[0m\u001b[0;34m,\u001b[0m \u001b[0mepoch_logs\u001b[0m\u001b[0;34m,\u001b[0m \u001b[0mresults\u001b[0m\u001b[0;34m,\u001b[0m \u001b[0mmode\u001b[0m\u001b[0;34m)\u001b[0m\u001b[0;34m\u001b[0m\u001b[0;34m\u001b[0m\u001b[0m\n",
            "\u001b[0;32m/usr/local/lib/python3.7/dist-packages/keras/engine/training_utils_v1.py\u001b[0m in \u001b[0;36mfinalize\u001b[0;34m(self)\u001b[0m\n\u001b[1;32m    125\u001b[0m   \u001b[0;32mdef\u001b[0m \u001b[0mfinalize\u001b[0m\u001b[0;34m(\u001b[0m\u001b[0mself\u001b[0m\u001b[0;34m)\u001b[0m\u001b[0;34m:\u001b[0m\u001b[0;34m\u001b[0m\u001b[0;34m\u001b[0m\u001b[0m\n\u001b[1;32m    126\u001b[0m     \u001b[0;32mif\u001b[0m \u001b[0;32mnot\u001b[0m \u001b[0mself\u001b[0m\u001b[0;34m.\u001b[0m\u001b[0mresults\u001b[0m\u001b[0;34m:\u001b[0m\u001b[0;34m\u001b[0m\u001b[0;34m\u001b[0m\u001b[0m\n\u001b[0;32m--> 127\u001b[0;31m       \u001b[0;32mraise\u001b[0m \u001b[0mValueError\u001b[0m\u001b[0;34m(\u001b[0m\u001b[0;34m'Empty training data.'\u001b[0m\u001b[0;34m)\u001b[0m\u001b[0;34m\u001b[0m\u001b[0;34m\u001b[0m\u001b[0m\n\u001b[0m\u001b[1;32m    128\u001b[0m     \u001b[0mself\u001b[0m\u001b[0;34m.\u001b[0m\u001b[0mresults\u001b[0m\u001b[0;34m[\u001b[0m\u001b[0;36m0\u001b[0m\u001b[0;34m]\u001b[0m \u001b[0;34m/=\u001b[0m \u001b[0;34m(\u001b[0m\u001b[0mself\u001b[0m\u001b[0;34m.\u001b[0m\u001b[0mnum_samples\u001b[0m \u001b[0;32mor\u001b[0m \u001b[0mself\u001b[0m\u001b[0;34m.\u001b[0m\u001b[0msteps\u001b[0m\u001b[0;34m)\u001b[0m\u001b[0;34m\u001b[0m\u001b[0;34m\u001b[0m\u001b[0m\n\u001b[1;32m    129\u001b[0m \u001b[0;34m\u001b[0m\u001b[0m\n",
            "\u001b[0;31mValueError\u001b[0m: Empty training data."
          ]
        }
      ]
    },
    {
      "cell_type": "markdown",
      "source": [
        "Metricas de Comparacion"
      ],
      "metadata": {
        "id": "59b4ruMnlx8g"
      }
    },
    {
      "cell_type": "code",
      "source": [
        "df_protected = pd.DataFrame(results_protected, columns=('Method Name', 'Stealing Dataset Size', 'Accuracy'))\n",
        "fig, ax = plt.subplots(figsize=(8,6))\n",
        "ax.set_xlabel(\"Stealing Dataset Size\")\n",
        "ax.set_ylabel(\"Stolen Model Accuracy\")\n",
        "for name, group in df_protected.groupby(\"Method Name\"):\n",
        "    group.plot(1, 2, ax=ax, label=name)\n",
        "plt.show()"
      ],
      "metadata": {
        "colab": {
          "base_uri": "https://localhost:8080/",
          "height": 388
        },
        "id": "plWhI8wwlwxR",
        "outputId": "7adb4203-9fdc-4406-f4d1-ea8c30b16f19"
      },
      "execution_count": 62,
      "outputs": [
        {
          "output_type": "display_data",
          "data": {
            "text/plain": [
              "<Figure size 576x432 with 1 Axes>"
            ],
            "image/png": "[encoded data removed]"
          },
          "metadata": {
            "needs_background": "light"
          }
        }
      ]
    },
    {
      "cell_type": "markdown",
      "source": [
        "Probabilistico vs. Protegido"
      ],
      "metadata": {
        "id": "fXcUIHhimOuu"
      }
    },
    {
      "cell_type": "code",
      "source": [
        "df_combined = pd.concat([df, df_protected])\n",
        "groupby = df_combined.groupby(\"Method Name\")"
      ],
      "metadata": {
        "id": "Xg81iKQnmONq"
      },
      "execution_count": 63,
      "outputs": []
    },
    {
      "cell_type": "code",
      "source": [
        "names = [\"CopycatCNN\", \"KnockoffNets\"]\n",
        "for name in names:\n",
        "    fig, ax = plt.subplots(figsize=(8,6))\n",
        "    groupby.get_group(\"Probabilistic \" + name).plot(1,2,ax=ax, label=\"Probabilistic \" + name)\n",
        "    groupby.get_group(\"Probabilistic \" + name + \" (vs. Protected)\").plot(1,2,ax=ax, label=\"Probabilistic \" + name + \" (vs. Protected)\")\n",
        "    ax.set_xlabel(\"Stealing Dataset Size\")\n",
        "    ax.set_ylabel(\"Stolen Model Accuracy\")\n",
        "    fig.show()"
      ],
      "metadata": {
        "colab": {
          "base_uri": "https://localhost:8080/",
          "height": 759
        },
        "id": "5B7bUZ8ImXcB",
        "outputId": "5af01dd0-a70f-4d2b-dcd6-ceca493a6d06"
      },
      "execution_count": 64,
      "outputs": [
        {
          "output_type": "display_data",
          "data": {
            "text/plain": [
              "<Figure size 576x432 with 1 Axes>"
            ],
            "image/png": "[encoded data removed]"
          },
          "metadata": {
            "needs_background": "light"
          }
        },
        {
          "output_type": "display_data",
          "data": {
            "text/plain": [
              "<Figure size 576x432 with 1 Axes>"
            ],
            "image/png": "[encoded data removed]"
          },
          "metadata": {
            "needs_background": "light"
          }
        }
      ]
    }
  ],
  "metadata": {
    "colab": {
      "name": "model.ipynb",
      "provenance": [],
      "collapsed_sections": []
    },
    "kernelspec": {
      "display_name": "Python 3 (ipykernel)",
      "language": "python",
      "name": "python3"
    },
    "language_info": {
      "codemirror_mode": {
        "name": "ipython",
        "version": 3
      },
      "file_extension": ".py",
      "mimetype": "text/x-python",
      "name": "python",
      "nbconvert_exporter": "python",
      "pygments_lexer": "ipython3",
      "version": "3.8.10"
    }
  },
  "nbformat": 4,
  "nbformat_minor": 0
}