{
 "cells": [
  {
   "cell_type": "markdown",
   "metadata": {},
   "source": [
    "# Proyecto 3\n",
    "## Ataques a Modelos de Deep Learning\n",
    "Ataque y defensa de modelos de aprendizaje de máquina y aprendizaje profundo.\n",
    "> #### Gerardo Méndez 18239\n",
    "> #### María José Castro 181202"
   ]
  },
  {
   "cell_type": "code",
   "execution_count": 1,
   "metadata": {
    "id": "8TrBXp14pv54"
   },
   "outputs": [],
   "source": [
    "import numpy as np\n",
    "import pandas as pd\n",
    "import seaborn as sns\n",
    "import tensorflow as tf\n",
    "\n",
    "from tensorflow import keras\n",
    "from keras.constraints import maxnorm\n",
    "from keras.preprocessing.image import ImageDataGenerator"
   ]
  },
  {
   "cell_type": "code",
   "execution_count": 2,
   "metadata": {},
   "outputs": [],
   "source": [
    "DATA_DIRECTORY = 'data/images'"
   ]
  },
  {
   "cell_type": "markdown",
   "metadata": {},
   "source": [
    "### OBTENCION DE IMAGENES"
   ]
  },
  {
   "cell_type": "code",
   "execution_count": 3,
   "metadata": {},
   "outputs": [
    {
     "name": "stdout",
     "output_type": "stream",
     "text": [
      "Found 9339 images belonging to 25 classes.\n"
     ]
    }
   ],
   "source": [
    "path_images = ImageDataGenerator().flow_from_directory(directory=DATA_DIRECTORY, target_size=(128,128), batch_size=10000)"
   ]
  },
  {
   "cell_type": "code",
   "execution_count": 4,
   "metadata": {},
   "outputs": [],
   "source": [
    "images, marks = next(path_images)"
   ]
  },
  {
   "cell_type": "code",
   "execution_count": 5,
   "metadata": {},
   "outputs": [],
   "source": [
    "indices_path = path_images.class_indices"
   ]
  },
  {
   "cell_type": "code",
   "execution_count": 6,
   "metadata": {},
   "outputs": [],
   "source": [
    "type_images = indices_path.keys()"
   ]
  },
  {
   "cell_type": "code",
   "execution_count": 7,
   "metadata": {},
   "outputs": [
    {
     "name": "stdout",
     "output_type": "stream",
     "text": [
      "--> NO. DE IMÁGENES:  9339\n",
      "--> NO. DE CLASES:  25\n"
     ]
    }
   ],
   "source": [
    "shape = marks.shape\n",
    "\n",
    "print(\"--> NO. DE IMÁGENES: \", shape[0])\n",
    "print(\"--> NO. DE CLASES: \", shape[1])"
   ]
  },
  {
   "cell_type": "code",
   "execution_count": 8,
   "metadata": {},
   "outputs": [],
   "source": [
    "add = sum(marks)\n",
    "marks_qt = marks.shape[0]"
   ]
  },
  {
   "cell_type": "code",
   "execution_count": 9,
   "metadata": {},
   "outputs": [],
   "source": [
    "quantity = ((add) / marks_qt)"
   ]
  },
  {
   "cell_type": "code",
   "execution_count": 10,
   "metadata": {},
   "outputs": [
    {
     "data": {
      "text/plain": [
       "array([ 1.3063496 ,  1.2421031 , 31.577257  , 17.036085  ,  2.1201413 ,\n",
       "        1.1350251 ,  1.5633365 ,  2.141557  ,  1.895278  ,  1.7346611 ,\n",
       "        4.079666  ,  4.615055  ,  2.2807581 ,  1.9702322 ,  1.3170575 ,\n",
       "        1.7025378 ,  1.4562588 ,  1.5205053 ,  1.6918299 ,  0.85662276,\n",
       "        1.3705964 ,  1.4134276 ,  4.3687763 ,  1.038655  ,  8.566228  ],\n",
       "      dtype=float32)"
      ]
     },
     "execution_count": 10,
     "metadata": {},
     "output_type": "execute_result"
    }
   ],
   "source": [
    "quantity = quantity * 100\n",
    "quantity"
   ]
  },
  {
   "cell_type": "markdown",
   "metadata": {},
   "source": [
    "### DIVISION DE DATOS"
   ]
  },
  {
   "cell_type": "code",
   "execution_count": 11,
   "metadata": {},
   "outputs": [],
   "source": [
    "from sklearn.model_selection import train_test_split"
   ]
  },
  {
   "cell_type": "code",
   "execution_count": 12,
   "metadata": {},
   "outputs": [],
   "source": [
    "X_train, X_test, y_train, y_test = train_test_split(images/255.,marks, test_size=0.3)"
   ]
  },
  {
   "cell_type": "code",
   "execution_count": 17,
   "metadata": {},
   "outputs": [
    {
     "name": "stdout",
     "output_type": "stream",
     "text": [
      "(6537, 128, 128, 3)\n",
      "321306624\n"
     ]
    }
   ],
   "source": [
    "#Datasets de train de X\n",
    "print(X_train.shape)\n",
    "print(X_train.size)"
   ]
  },
  {
   "cell_type": "code",
   "execution_count": 18,
   "metadata": {},
   "outputs": [
    {
     "name": "stdout",
     "output_type": "stream",
     "text": [
      "(2802, 128, 128, 3)\n",
      "137723904\n"
     ]
    }
   ],
   "source": [
    "#Dataset de test de X\n",
    "print(X_test.shape)\n",
    "print(X_test.size)"
   ]
  },
  {
   "cell_type": "code",
   "execution_count": 19,
   "metadata": {},
   "outputs": [
    {
     "name": "stdout",
     "output_type": "stream",
     "text": [
      "(6537, 25)\n",
      "163425\n"
     ]
    }
   ],
   "source": [
    "#Dataset de train de Y\n",
    "print(y_train.shape)\n",
    "print(y_train.size)"
   ]
  },
  {
   "cell_type": "code",
   "execution_count": 20,
   "metadata": {},
   "outputs": [
    {
     "name": "stdout",
     "output_type": "stream",
     "text": [
      "(2802, 25)\n",
      "70050\n"
     ]
    }
   ],
   "source": [
    "#Dataset de test de Y\n",
    "print(y_test.shape)\n",
    "print(y_test.size)"
   ]
  },
  {
   "cell_type": "markdown",
   "metadata": {},
   "source": [
    "### MODELO"
   ]
  },
  {
   "cell_type": "code",
   "execution_count": 21,
   "metadata": {},
   "outputs": [],
   "source": [
    "model = keras.Sequential()\n",
    "model.add(keras.layers.Conv2D(32, (5, 5), input_shape=(128, 128, 3), activation='relu', padding='same'))\n",
    "model.add(keras.layers.MaxPooling2D(2))\n",
    "model.add(keras.layers.Dropout(0.2))\n",
    "model.add(keras.layers.BatchNormalization())\n",
    "model.add(keras.layers.Conv2D(64, (3, 3), activation='relu'))\n",
    "model.add(keras.layers.Conv2D(128, (3, 3), activation='relu'))\n",
    "model.add(keras.layers.Flatten())\n",
    "model.add(keras.layers.Dense(128, activation='relu'))\n",
    "model.add(keras.layers.Dense(25, activation='softmax'))"
   ]
  },
  {
   "cell_type": "code",
   "execution_count": 22,
   "metadata": {},
   "outputs": [
    {
     "name": "stdout",
     "output_type": "stream",
     "text": [
      "Model: \"sequential\"\n",
      "_________________________________________________________________\n",
      "Layer (type)                 Output Shape              Param #   \n",
      "=================================================================\n",
      "conv2d (Conv2D)              (None, 128, 128, 32)      2432      \n",
      "_________________________________________________________________\n",
      "max_pooling2d (MaxPooling2D) (None, 64, 64, 32)        0         \n",
      "_________________________________________________________________\n",
      "dropout (Dropout)            (None, 64, 64, 32)        0         \n",
      "_________________________________________________________________\n",
      "batch_normalization (BatchNo (None, 64, 64, 32)        128       \n",
      "_________________________________________________________________\n",
      "conv2d_1 (Conv2D)            (None, 62, 62, 64)        18496     \n",
      "_________________________________________________________________\n",
      "conv2d_2 (Conv2D)            (None, 60, 60, 128)       73856     \n",
      "_________________________________________________________________\n",
      "flatten (Flatten)            (None, 460800)            0         \n",
      "_________________________________________________________________\n",
      "dense (Dense)                (None, 128)               58982528  \n",
      "_________________________________________________________________\n",
      "dense_1 (Dense)              (None, 25)                3225      \n",
      "=================================================================\n",
      "Total params: 59,080,665\n",
      "Trainable params: 59,080,601\n",
      "Non-trainable params: 64\n",
      "_________________________________________________________________\n"
     ]
    }
   ],
   "source": [
    "model.summary()"
   ]
  },
  {
   "cell_type": "code",
   "execution_count": 23,
   "metadata": {},
   "outputs": [
    {
     "data": {
      "text/plain": [
       "[<keras.layers.convolutional.Conv2D at 0x2abeaed72b0>,\n",
       " <keras.layers.pooling.MaxPooling2D at 0x2abe9afea00>,\n",
       " <keras.layers.core.Dropout at 0x2abeaf18d90>,\n",
       " <keras.layers.normalization.batch_normalization.BatchNormalization at 0x2abeafdff10>,\n",
       " <keras.layers.convolutional.Conv2D at 0x2abe9ad32e0>,\n",
       " <keras.layers.convolutional.Conv2D at 0x2abeb01baf0>,\n",
       " <keras.layers.core.Flatten at 0x2abeb056190>,\n",
       " <keras.layers.core.Dense at 0x2abeb06bb20>,\n",
       " <keras.layers.core.Dense at 0x2abeb073f70>]"
      ]
     },
     "execution_count": 23,
     "metadata": {},
     "output_type": "execute_result"
    }
   ],
   "source": [
    "model.layers"
   ]
  },
  {
   "cell_type": "code",
   "execution_count": 24,
   "metadata": {},
   "outputs": [],
   "source": [
    "model.compile(loss='categorical_crossentropy', optimizer='adam', metrics=['accuracy'])"
   ]
  },
  {
   "cell_type": "code",
   "execution_count": 25,
   "metadata": {},
   "outputs": [
    {
     "name": "stdout",
     "output_type": "stream",
     "text": [
      "88/88 [==============================] - 52s 262ms/step - loss: 3.2227 - accuracy: 0.0364\n",
      "Accuracy  0.036402568221092224\n"
     ]
    }
   ],
   "source": [
    "op = model.evaluate(X_test, y_test)\n",
    "print(\"Accuracy \", op[1])"
   ]
  },
  {
   "cell_type": "code",
   "execution_count": 26,
   "metadata": {},
   "outputs": [
    {
     "name": "stdout",
     "output_type": "stream",
     "text": [
      "Epoch 1/4\n",
      "205/205 [==============================] - 357s 2s/step - loss: 4.3773 - accuracy: 0.3082 - val_loss: 2.9147 - val_accuracy: 0.3158\n",
      "Epoch 2/4\n",
      "205/205 [==============================] - 331s 2s/step - loss: 2.3972 - accuracy: 0.3889 - val_loss: 1.7266 - val_accuracy: 0.6970\n",
      "Epoch 3/4\n",
      "205/205 [==============================] - 332s 2s/step - loss: 0.5101 - accuracy: 0.8568 - val_loss: 0.4408 - val_accuracy: 0.9272\n",
      "Epoch 4/4\n",
      "205/205 [==============================] - 330s 2s/step - loss: 0.1585 - accuracy: 0.9575 - val_loss: 0.1983 - val_accuracy: 0.9425\n"
     ]
    },
    {
     "data": {
      "text/plain": [
       "<keras.callbacks.History at 0x2abeb2864c0>"
      ]
     },
     "execution_count": 26,
     "metadata": {},
     "output_type": "execute_result"
    }
   ],
   "source": [
    "model.fit(X_train, y_train, validation_data=(X_test, y_test), epochs=4)"
   ]
  },
  {
   "cell_type": "code",
   "execution_count": 27,
   "metadata": {},
   "outputs": [
    {
     "data": {
      "text/plain": [
       "dict_keys(['Adialer.C', 'Agent.FYI', 'Allaple.A', 'Allaple.L', 'Alueron.gen!J', 'Autorun.K', 'C2LOP.P', 'C2LOP.gen!g', 'Dialplatform.B', 'Dontovo.A', 'Fakerean', 'Instantaccess', 'Lolyda.AA1', 'Lolyda.AA2', 'Lolyda.AA3', 'Lolyda.AT', 'Malex.gen!J', 'Obfuscator.AD', 'Rbot!gen', 'Skintrim.N', 'Swizzor.gen!E', 'Swizzor.gen!I', 'VB.AT', 'Wintrim.BX', 'Yuner.A'])"
      ]
     },
     "execution_count": 27,
     "metadata": {},
     "output_type": "execute_result"
    }
   ],
   "source": [
    "type_images"
   ]
  },
  {
   "cell_type": "code",
   "execution_count": 28,
   "metadata": {},
   "outputs": [],
   "source": [
    "model.save('model.h5')"
   ]
  },
  {
   "cell_type": "markdown",
   "metadata": {},
   "source": [
    "### Ataque de Extraccion"
   ]
  },
  {
   "cell_type": "code",
   "execution_count": null,
   "metadata": {},
   "outputs": [],
   "source": []
  },
  {
   "cell_type": "markdown",
   "metadata": {},
   "source": [
    "Extra"
   ]
  },
  {
   "cell_type": "code",
   "execution_count": 46,
   "metadata": {},
   "outputs": [],
   "source": [
    "y_pred=model.predict(X_test)"
   ]
  },
  {
   "cell_type": "code",
   "execution_count": 47,
   "metadata": {},
   "outputs": [],
   "source": [
    "test_predict = np.argmax(model.predict(X_test), axis=-1)"
   ]
  },
  {
   "cell_type": "code",
   "execution_count": 48,
   "metadata": {},
   "outputs": [],
   "source": [
    "target_test = np.argmax(y_test, axis=-1)"
   ]
  },
  {
   "cell_type": "code",
   "execution_count": 50,
   "metadata": {},
   "outputs": [],
   "source": [
    "from sklearn.metrics import confusion_matrix"
   ]
  },
  {
   "cell_type": "code",
   "execution_count": 51,
   "metadata": {},
   "outputs": [
    {
     "data": {
      "image/png": "[encoded data removed]",
      "text/plain": [
       "<Figure size 432x288 with 2 Axes>"
      ]
     },
     "metadata": {
      "needs_background": "light"
     },
     "output_type": "display_data"
    }
   ],
   "source": [
    "cm = confusion_matrix(target_test, test_predict)\n",
    "get_cf(cm)"
   ]
  },
  {
   "cell_type": "code",
   "execution_count": 63,
   "metadata": {},
   "outputs": [],
   "source": [
    "from sklearn.metrics import accuracy_score, classification_report"
   ]
  },
  {
   "cell_type": "code",
   "execution_count": 64,
   "metadata": {},
   "outputs": [
    {
     "name": "stdout",
     "output_type": "stream",
     "text": [
      "              precision    recall  f1-score   support\n",
      "\n",
      "           0       1.00      1.00      1.00        37\n",
      "           1       1.00      1.00      1.00        39\n",
      "           2       1.00      1.00      1.00       877\n",
      "           3       1.00      0.99      1.00       485\n",
      "           4       1.00      1.00      1.00        59\n",
      "           5       0.00      0.00      0.00         0\n",
      "           6       0.67      0.97      0.80        34\n",
      "           7       0.93      0.80      0.86        71\n",
      "           8       0.96      1.00      0.98        48\n",
      "           9       1.00      0.97      0.99        36\n",
      "          10       0.98      1.00      0.99       119\n",
      "          11       1.00      1.00      1.00       139\n",
      "          12       1.00      0.94      0.97        66\n",
      "          13       0.94      1.00      0.97        47\n",
      "          14       1.00      1.00      1.00        37\n",
      "          15       1.00      1.00      1.00        46\n",
      "          16       1.00      1.00      1.00        42\n",
      "          17       1.00      1.00      1.00        45\n",
      "          18       1.00      1.00      1.00        51\n",
      "          19       1.00      1.00      1.00        23\n",
      "          20       0.60      0.65      0.62        37\n",
      "          21       0.62      0.57      0.59        37\n",
      "          22       0.99      0.98      0.99       119\n",
      "          23       1.00      1.00      1.00        37\n",
      "          24       1.00      0.87      0.93       271\n",
      "\n",
      "    accuracy                           0.97      2802\n",
      "   macro avg       0.91      0.91      0.91      2802\n",
      "weighted avg       0.98      0.97      0.97      2802\n",
      "\n"
     ]
    },
    {
     "name": "stderr",
     "output_type": "stream",
     "text": [
      "c:\\users\\majo\\appdata\\local\\programs\\python\\python38\\lib\\site-packages\\sklearn\\metrics\\_classification.py:1248: UndefinedMetricWarning: Recall and F-score are ill-defined and being set to 0.0 in labels with no true samples. Use `zero_division` parameter to control this behavior.\n",
      "  _warn_prf(average, modifier, msg_start, len(result))\n",
      "c:\\users\\majo\\appdata\\local\\programs\\python\\python38\\lib\\site-packages\\sklearn\\metrics\\_classification.py:1248: UndefinedMetricWarning: Recall and F-score are ill-defined and being set to 0.0 in labels with no true samples. Use `zero_division` parameter to control this behavior.\n",
      "  _warn_prf(average, modifier, msg_start, len(result))\n",
      "c:\\users\\majo\\appdata\\local\\programs\\python\\python38\\lib\\site-packages\\sklearn\\metrics\\_classification.py:1248: UndefinedMetricWarning: Recall and F-score are ill-defined and being set to 0.0 in labels with no true samples. Use `zero_division` parameter to control this behavior.\n",
      "  _warn_prf(average, modifier, msg_start, len(result))\n"
     ]
    }
   ],
   "source": [
    "print(classification_report(test_predict, target_test))"
   ]
  }
 ],
 "metadata": {
  "colab": {
   "name": "Análisis de paquetes.ipynb",
   "provenance": []
  },
  "kernelspec": {
   "display_name": "Python 3 (ipykernel)",
   "language": "python",
   "name": "python3"
  },
  "language_info": {
   "codemirror_mode": {
    "name": "ipython",
    "version": 3
   },
   "file_extension": ".py",
   "mimetype": "text/x-python",
   "name": "python",
   "nbconvert_exporter": "python",
   "pygments_lexer": "ipython3",
   "version": "3.8.10"
  }
 },
 "nbformat": 4,
 "nbformat_minor": 1
}
