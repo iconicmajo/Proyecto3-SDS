{
  "nbformat": 4,
  "nbformat_minor": 0,
  "metadata": {
    "colab": {
      "name": "evasion.ipynb",
      "provenance": [],
      "collapsed_sections": [
        "W_e5cj64ydDK",
        "nTUc4hPoNL45",
        "CmuQH_uQNPBV"
      ]
    },
    "kernelspec": {
      "name": "python3",
      "display_name": "Python 3"
    },
    "language_info": {
      "name": "python"
    },
    "widgets": {
      "application/vnd.jupyter.widget-state+json": {
        "7f0bc2bf89194c68bd18a4f6453dc2bd": {
          "model_module": "@jupyter-widgets/controls",
          "model_name": "HBoxModel",
          "model_module_version": "1.5.0",
          "state": {
            "_dom_classes": [],
            "_model_module": "@jupyter-widgets/controls",
            "_model_module_version": "1.5.0",
            "_model_name": "HBoxModel",
            "_view_count": null,
            "_view_module": "@jupyter-widgets/controls",
            "_view_module_version": "1.5.0",
            "_view_name": "HBoxView",
            "box_style": "",
            "children": [
              "IPY_MODEL_f7294fde441d4baa9e62a5781bb343e9",
              "IPY_MODEL_2dcf0c68b95c4293a486bbd87963e18f",
              "IPY_MODEL_dd8e79f3d8ee4781b62d2b0e385cc0be"
            ],
            "layout": "IPY_MODEL_abd93ebe839b40a681b8cab180e133dd"
          }
        },
        "f7294fde441d4baa9e62a5781bb343e9": {
          "model_module": "@jupyter-widgets/controls",
          "model_name": "HTMLModel",
          "model_module_version": "1.5.0",
          "state": {
            "_dom_classes": [],
            "_model_module": "@jupyter-widgets/controls",
            "_model_module_version": "1.5.0",
            "_model_name": "HTMLModel",
            "_view_count": null,
            "_view_module": "@jupyter-widgets/controls",
            "_view_module_version": "1.5.0",
            "_view_name": "HTMLView",
            "description": "",
            "description_tooltip": null,
            "layout": "IPY_MODEL_586d1f444f63485380d6bd74bb111203",
            "placeholder": "​",
            "style": "IPY_MODEL_e138f9cfae5444c598f8e44770fd37cf",
            "value": "Precompute adv samples: 100%"
          }
        },
        "2dcf0c68b95c4293a486bbd87963e18f": {
          "model_module": "@jupyter-widgets/controls",
          "model_name": "FloatProgressModel",
          "model_module_version": "1.5.0",
          "state": {
            "_dom_classes": [],
            "_model_module": "@jupyter-widgets/controls",
            "_model_module_version": "1.5.0",
            "_model_name": "FloatProgressModel",
            "_view_count": null,
            "_view_module": "@jupyter-widgets/controls",
            "_view_module_version": "1.5.0",
            "_view_name": "ProgressView",
            "bar_style": "success",
            "description": "",
            "description_tooltip": null,
            "layout": "IPY_MODEL_bb7cd09b715f4f498993fe27a0d0bf26",
            "max": 1,
            "min": 0,
            "orientation": "horizontal",
            "style": "IPY_MODEL_e5c9c6c518c84822b8bfd73866bd4e0b",
            "value": 1
          }
        },
        "dd8e79f3d8ee4781b62d2b0e385cc0be": {
          "model_module": "@jupyter-widgets/controls",
          "model_name": "HTMLModel",
          "model_module_version": "1.5.0",
          "state": {
            "_dom_classes": [],
            "_model_module": "@jupyter-widgets/controls",
            "_model_module_version": "1.5.0",
            "_model_name": "HTMLModel",
            "_view_count": null,
            "_view_module": "@jupyter-widgets/controls",
            "_view_module_version": "1.5.0",
            "_view_name": "HTMLView",
            "description": "",
            "description_tooltip": null,
            "layout": "IPY_MODEL_14cf91e641794f28aecb84cdb5828751",
            "placeholder": "​",
            "style": "IPY_MODEL_25a8ea412b304516a4e067efad27f58d",
            "value": " 1/1 [00:00&lt;00:00, 15.28it/s]"
          }
        },
        "abd93ebe839b40a681b8cab180e133dd": {
          "model_module": "@jupyter-widgets/base",
          "model_name": "LayoutModel",
          "model_module_version": "1.2.0",
          "state": {
            "_model_module": "@jupyter-widgets/base",
            "_model_module_version": "1.2.0",
            "_model_name": "LayoutModel",
            "_view_count": null,
            "_view_module": "@jupyter-widgets/base",
            "_view_module_version": "1.2.0",
            "_view_name": "LayoutView",
            "align_content": null,
            "align_items": null,
            "align_self": null,
            "border": null,
            "bottom": null,
            "display": null,
            "flex": null,
            "flex_flow": null,
            "grid_area": null,
            "grid_auto_columns": null,
            "grid_auto_flow": null,
            "grid_auto_rows": null,
            "grid_column": null,
            "grid_gap": null,
            "grid_row": null,
            "grid_template_areas": null,
            "grid_template_columns": null,
            "grid_template_rows": null,
            "height": null,
            "justify_content": null,
            "justify_items": null,
            "left": null,
            "margin": null,
            "max_height": null,
            "max_width": null,
            "min_height": null,
            "min_width": null,
            "object_fit": null,
            "object_position": null,
            "order": null,
            "overflow": null,
            "overflow_x": null,
            "overflow_y": null,
            "padding": null,
            "right": null,
            "top": null,
            "visibility": null,
            "width": null
          }
        },
        "586d1f444f63485380d6bd74bb111203": {
          "model_module": "@jupyter-widgets/base",
          "model_name": "LayoutModel",
          "model_module_version": "1.2.0",
          "state": {
            "_model_module": "@jupyter-widgets/base",
            "_model_module_version": "1.2.0",
            "_model_name": "LayoutModel",
            "_view_count": null,
            "_view_module": "@jupyter-widgets/base",
            "_view_module_version": "1.2.0",
            "_view_name": "LayoutView",
            "align_content": null,
            "align_items": null,
            "align_self": null,
            "border": null,
            "bottom": null,
            "display": null,
            "flex": null,
            "flex_flow": null,
            "grid_area": null,
            "grid_auto_columns": null,
            "grid_auto_flow": null,
            "grid_auto_rows": null,
            "grid_column": null,
            "grid_gap": null,
            "grid_row": null,
            "grid_template_areas": null,
            "grid_template_columns": null,
            "grid_template_rows": null,
            "height": null,
            "justify_content": null,
            "justify_items": null,
            "left": null,
            "margin": null,
            "max_height": null,
            "max_width": null,
            "min_height": null,
            "min_width": null,
            "object_fit": null,
            "object_position": null,
            "order": null,
            "overflow": null,
            "overflow_x": null,
            "overflow_y": null,
            "padding": null,
            "right": null,
            "top": null,
            "visibility": null,
            "width": null
          }
        },
        "e138f9cfae5444c598f8e44770fd37cf": {
          "model_module": "@jupyter-widgets/controls",
          "model_name": "DescriptionStyleModel",
          "model_module_version": "1.5.0",
          "state": {
            "_model_module": "@jupyter-widgets/controls",
            "_model_module_version": "1.5.0",
            "_model_name": "DescriptionStyleModel",
            "_view_count": null,
            "_view_module": "@jupyter-widgets/base",
            "_view_module_version": "1.2.0",
            "_view_name": "StyleView",
            "description_width": ""
          }
        },
        "bb7cd09b715f4f498993fe27a0d0bf26": {
          "model_module": "@jupyter-widgets/base",
          "model_name": "LayoutModel",
          "model_module_version": "1.2.0",
          "state": {
            "_model_module": "@jupyter-widgets/base",
            "_model_module_version": "1.2.0",
            "_model_name": "LayoutModel",
            "_view_count": null,
            "_view_module": "@jupyter-widgets/base",
            "_view_module_version": "1.2.0",
            "_view_name": "LayoutView",
            "align_content": null,
            "align_items": null,
            "align_self": null,
            "border": null,
            "bottom": null,
            "display": null,
            "flex": null,
            "flex_flow": null,
            "grid_area": null,
            "grid_auto_columns": null,
            "grid_auto_flow": null,
            "grid_auto_rows": null,
            "grid_column": null,
            "grid_gap": null,
            "grid_row": null,
            "grid_template_areas": null,
            "grid_template_columns": null,
            "grid_template_rows": null,
            "height": null,
            "justify_content": null,
            "justify_items": null,
            "left": null,
            "margin": null,
            "max_height": null,
            "max_width": null,
            "min_height": null,
            "min_width": null,
            "object_fit": null,
            "object_position": null,
            "order": null,
            "overflow": null,
            "overflow_x": null,
            "overflow_y": null,
            "padding": null,
            "right": null,
            "top": null,
            "visibility": null,
            "width": null
          }
        },
        "e5c9c6c518c84822b8bfd73866bd4e0b": {
          "model_module": "@jupyter-widgets/controls",
          "model_name": "ProgressStyleModel",
          "model_module_version": "1.5.0",
          "state": {
            "_model_module": "@jupyter-widgets/controls",
            "_model_module_version": "1.5.0",
            "_model_name": "ProgressStyleModel",
            "_view_count": null,
            "_view_module": "@jupyter-widgets/base",
            "_view_module_version": "1.2.0",
            "_view_name": "StyleView",
            "bar_color": null,
            "description_width": ""
          }
        },
        "14cf91e641794f28aecb84cdb5828751": {
          "model_module": "@jupyter-widgets/base",
          "model_name": "LayoutModel",
          "model_module_version": "1.2.0",
          "state": {
            "_model_module": "@jupyter-widgets/base",
            "_model_module_version": "1.2.0",
            "_model_name": "LayoutModel",
            "_view_count": null,
            "_view_module": "@jupyter-widgets/base",
            "_view_module_version": "1.2.0",
            "_view_name": "LayoutView",
            "align_content": null,
            "align_items": null,
            "align_self": null,
            "border": null,
            "bottom": null,
            "display": null,
            "flex": null,
            "flex_flow": null,
            "grid_area": null,
            "grid_auto_columns": null,
            "grid_auto_flow": null,
            "grid_auto_rows": null,
            "grid_column": null,
            "grid_gap": null,
            "grid_row": null,
            "grid_template_areas": null,
            "grid_template_columns": null,
            "grid_template_rows": null,
            "height": null,
            "justify_content": null,
            "justify_items": null,
            "left": null,
            "margin": null,
            "max_height": null,
            "max_width": null,
            "min_height": null,
            "min_width": null,
            "object_fit": null,
            "object_position": null,
            "order": null,
            "overflow": null,
            "overflow_x": null,
            "overflow_y": null,
            "padding": null,
            "right": null,
            "top": null,
            "visibility": null,
            "width": null
          }
        },
        "25a8ea412b304516a4e067efad27f58d": {
          "model_module": "@jupyter-widgets/controls",
          "model_name": "DescriptionStyleModel",
          "model_module_version": "1.5.0",
          "state": {
            "_model_module": "@jupyter-widgets/controls",
            "_model_module_version": "1.5.0",
            "_model_name": "DescriptionStyleModel",
            "_view_count": null,
            "_view_module": "@jupyter-widgets/base",
            "_view_module_version": "1.2.0",
            "_view_name": "StyleView",
            "description_width": ""
          }
        },
        "ffdf1f2928b14bc8b4340e82b58b789e": {
          "model_module": "@jupyter-widgets/controls",
          "model_name": "HBoxModel",
          "model_module_version": "1.5.0",
          "state": {
            "_dom_classes": [],
            "_model_module": "@jupyter-widgets/controls",
            "_model_module_version": "1.5.0",
            "_model_name": "HBoxModel",
            "_view_count": null,
            "_view_module": "@jupyter-widgets/controls",
            "_view_module_version": "1.5.0",
            "_view_name": "HBoxView",
            "box_style": "",
            "children": [
              "IPY_MODEL_c81b6e50ac1e4d76a05e3c0002a8eaba",
              "IPY_MODEL_8c42e35039d945c9b8b07fbb48102539",
              "IPY_MODEL_0d245fce0a664db2b7cd7336a94d0e20"
            ],
            "layout": "IPY_MODEL_cd8d98d8fe044a15ad8b96a1b857024f"
          }
        },
        "c81b6e50ac1e4d76a05e3c0002a8eaba": {
          "model_module": "@jupyter-widgets/controls",
          "model_name": "HTMLModel",
          "model_module_version": "1.5.0",
          "state": {
            "_dom_classes": [],
            "_model_module": "@jupyter-widgets/controls",
            "_model_module_version": "1.5.0",
            "_model_name": "HTMLModel",
            "_view_count": null,
            "_view_module": "@jupyter-widgets/controls",
            "_view_module_version": "1.5.0",
            "_view_name": "HTMLView",
            "description": "",
            "description_tooltip": null,
            "layout": "IPY_MODEL_545d87d06f804efe99b5c1a547fbcff2",
            "placeholder": "​",
            "style": "IPY_MODEL_fe4c0e23f0ac4c39840a4b0aa8cc7323",
            "value": "Adversarial training epochs: 100%"
          }
        },
        "8c42e35039d945c9b8b07fbb48102539": {
          "model_module": "@jupyter-widgets/controls",
          "model_name": "FloatProgressModel",
          "model_module_version": "1.5.0",
          "state": {
            "_dom_classes": [],
            "_model_module": "@jupyter-widgets/controls",
            "_model_module_version": "1.5.0",
            "_model_name": "FloatProgressModel",
            "_view_count": null,
            "_view_module": "@jupyter-widgets/controls",
            "_view_module_version": "1.5.0",
            "_view_name": "ProgressView",
            "bar_style": "success",
            "description": "",
            "description_tooltip": null,
            "layout": "IPY_MODEL_62c2ceee27a74f8381a69e4b78482de0",
            "max": 3,
            "min": 0,
            "orientation": "horizontal",
            "style": "IPY_MODEL_ea0d5985118947cf8a0dce33b918c072",
            "value": 3
          }
        },
        "0d245fce0a664db2b7cd7336a94d0e20": {
          "model_module": "@jupyter-widgets/controls",
          "model_name": "HTMLModel",
          "model_module_version": "1.5.0",
          "state": {
            "_dom_classes": [],
            "_model_module": "@jupyter-widgets/controls",
            "_model_module_version": "1.5.0",
            "_model_name": "HTMLModel",
            "_view_count": null,
            "_view_module": "@jupyter-widgets/controls",
            "_view_module_version": "1.5.0",
            "_view_name": "HTMLView",
            "description": "",
            "description_tooltip": null,
            "layout": "IPY_MODEL_b00b685c02a14e6e8a09763eaec53858",
            "placeholder": "​",
            "style": "IPY_MODEL_9d8308517a5a4041bdd3470feb94e0eb",
            "value": " 3/3 [13:11&lt;00:00, 263.61s/it]"
          }
        },
        "cd8d98d8fe044a15ad8b96a1b857024f": {
          "model_module": "@jupyter-widgets/base",
          "model_name": "LayoutModel",
          "model_module_version": "1.2.0",
          "state": {
            "_model_module": "@jupyter-widgets/base",
            "_model_module_version": "1.2.0",
            "_model_name": "LayoutModel",
            "_view_count": null,
            "_view_module": "@jupyter-widgets/base",
            "_view_module_version": "1.2.0",
            "_view_name": "LayoutView",
            "align_content": null,
            "align_items": null,
            "align_self": null,
            "border": null,
            "bottom": null,
            "display": null,
            "flex": null,
            "flex_flow": null,
            "grid_area": null,
            "grid_auto_columns": null,
            "grid_auto_flow": null,
            "grid_auto_rows": null,
            "grid_column": null,
            "grid_gap": null,
            "grid_row": null,
            "grid_template_areas": null,
            "grid_template_columns": null,
            "grid_template_rows": null,
            "height": null,
            "justify_content": null,
            "justify_items": null,
            "left": null,
            "margin": null,
            "max_height": null,
            "max_width": null,
            "min_height": null,
            "min_width": null,
            "object_fit": null,
            "object_position": null,
            "order": null,
            "overflow": null,
            "overflow_x": null,
            "overflow_y": null,
            "padding": null,
            "right": null,
            "top": null,
            "visibility": null,
            "width": null
          }
        },
        "545d87d06f804efe99b5c1a547fbcff2": {
          "model_module": "@jupyter-widgets/base",
          "model_name": "LayoutModel",
          "model_module_version": "1.2.0",
          "state": {
            "_model_module": "@jupyter-widgets/base",
            "_model_module_version": "1.2.0",
            "_model_name": "LayoutModel",
            "_view_count": null,
            "_view_module": "@jupyter-widgets/base",
            "_view_module_version": "1.2.0",
            "_view_name": "LayoutView",
            "align_content": null,
            "align_items": null,
            "align_self": null,
            "border": null,
            "bottom": null,
            "display": null,
            "flex": null,
            "flex_flow": null,
            "grid_area": null,
            "grid_auto_columns": null,
            "grid_auto_flow": null,
            "grid_auto_rows": null,
            "grid_column": null,
            "grid_gap": null,
            "grid_row": null,
            "grid_template_areas": null,
            "grid_template_columns": null,
            "grid_template_rows": null,
            "height": null,
            "justify_content": null,
            "justify_items": null,
            "left": null,
            "margin": null,
            "max_height": null,
            "max_width": null,
            "min_height": null,
            "min_width": null,
            "object_fit": null,
            "object_position": null,
            "order": null,
            "overflow": null,
            "overflow_x": null,
            "overflow_y": null,
            "padding": null,
            "right": null,
            "top": null,
            "visibility": null,
            "width": null
          }
        },
        "fe4c0e23f0ac4c39840a4b0aa8cc7323": {
          "model_module": "@jupyter-widgets/controls",
          "model_name": "DescriptionStyleModel",
          "model_module_version": "1.5.0",
          "state": {
            "_model_module": "@jupyter-widgets/controls",
            "_model_module_version": "1.5.0",
            "_model_name": "DescriptionStyleModel",
            "_view_count": null,
            "_view_module": "@jupyter-widgets/base",
            "_view_module_version": "1.2.0",
            "_view_name": "StyleView",
            "description_width": ""
          }
        },
        "62c2ceee27a74f8381a69e4b78482de0": {
          "model_module": "@jupyter-widgets/base",
          "model_name": "LayoutModel",
          "model_module_version": "1.2.0",
          "state": {
            "_model_module": "@jupyter-widgets/base",
            "_model_module_version": "1.2.0",
            "_model_name": "LayoutModel",
            "_view_count": null,
            "_view_module": "@jupyter-widgets/base",
            "_view_module_version": "1.2.0",
            "_view_name": "LayoutView",
            "align_content": null,
            "align_items": null,
            "align_self": null,
            "border": null,
            "bottom": null,
            "display": null,
            "flex": null,
            "flex_flow": null,
            "grid_area": null,
            "grid_auto_columns": null,
            "grid_auto_flow": null,
            "grid_auto_rows": null,
            "grid_column": null,
            "grid_gap": null,
            "grid_row": null,
            "grid_template_areas": null,
            "grid_template_columns": null,
            "grid_template_rows": null,
            "height": null,
            "justify_content": null,
            "justify_items": null,
            "left": null,
            "margin": null,
            "max_height": null,
            "max_width": null,
            "min_height": null,
            "min_width": null,
            "object_fit": null,
            "object_position": null,
            "order": null,
            "overflow": null,
            "overflow_x": null,
            "overflow_y": null,
            "padding": null,
            "right": null,
            "top": null,
            "visibility": null,
            "width": null
          }
        },
        "ea0d5985118947cf8a0dce33b918c072": {
          "model_module": "@jupyter-widgets/controls",
          "model_name": "ProgressStyleModel",
          "model_module_version": "1.5.0",
          "state": {
            "_model_module": "@jupyter-widgets/controls",
            "_model_module_version": "1.5.0",
            "_model_name": "ProgressStyleModel",
            "_view_count": null,
            "_view_module": "@jupyter-widgets/base",
            "_view_module_version": "1.2.0",
            "_view_name": "StyleView",
            "bar_color": null,
            "description_width": ""
          }
        },
        "b00b685c02a14e6e8a09763eaec53858": {
          "model_module": "@jupyter-widgets/base",
          "model_name": "LayoutModel",
          "model_module_version": "1.2.0",
          "state": {
            "_model_module": "@jupyter-widgets/base",
            "_model_module_version": "1.2.0",
            "_model_name": "LayoutModel",
            "_view_count": null,
            "_view_module": "@jupyter-widgets/base",
            "_view_module_version": "1.2.0",
            "_view_name": "LayoutView",
            "align_content": null,
            "align_items": null,
            "align_self": null,
            "border": null,
            "bottom": null,
            "display": null,
            "flex": null,
            "flex_flow": null,
            "grid_area": null,
            "grid_auto_columns": null,
            "grid_auto_flow": null,
            "grid_auto_rows": null,
            "grid_column": null,
            "grid_gap": null,
            "grid_row": null,
            "grid_template_areas": null,
            "grid_template_columns": null,
            "grid_template_rows": null,
            "height": null,
            "justify_content": null,
            "justify_items": null,
            "left": null,
            "margin": null,
            "max_height": null,
            "max_width": null,
            "min_height": null,
            "min_width": null,
            "object_fit": null,
            "object_position": null,
            "order": null,
            "overflow": null,
            "overflow_x": null,
            "overflow_y": null,
            "padding": null,
            "right": null,
            "top": null,
            "visibility": null,
            "width": null
          }
        },
        "9d8308517a5a4041bdd3470feb94e0eb": {
          "model_module": "@jupyter-widgets/controls",
          "model_name": "DescriptionStyleModel",
          "model_module_version": "1.5.0",
          "state": {
            "_model_module": "@jupyter-widgets/controls",
            "_model_module_version": "1.5.0",
            "_model_name": "DescriptionStyleModel",
            "_view_count": null,
            "_view_module": "@jupyter-widgets/base",
            "_view_module_version": "1.2.0",
            "_view_name": "StyleView",
            "description_width": ""
          }
        }
      }
    }
  },
  "cells": [
    {
      "cell_type": "code",
      "source": [
        "import numpy as np\n",
        "import pandas as pd\n",
        "import seaborn as sns\n",
        "import tensorflow as tf\n",
        "\n",
        "from tensorflow import keras\n",
        "from keras.constraints import maxnorm\n",
        "from keras.preprocessing.image import ImageDataGenerator"
      ],
      "metadata": {
        "id": "Cy0IipZzWmX1"
      },
      "execution_count": 1,
      "outputs": []
    },
    {
      "cell_type": "code",
      "execution_count": 2,
      "metadata": {
        "id": "-KPSKTKlVXiT"
      },
      "outputs": [],
      "source": [
        "DATA_DIR = \"/content/drive/MyDrive/malware_imagenes/malimg_paper_dataset_imgs\""
      ]
    },
    {
      "cell_type": "code",
      "source": [
        "!pip install adversarial-robustness-toolbox"
      ],
      "metadata": {
        "colab": {
          "base_uri": "https://localhost:8080/"
        },
        "id": "tsLzyErXbmFn",
        "outputId": "7ec6e4d6-0ac3-42ce-f512-9b8f48b07386"
      },
      "execution_count": 3,
      "outputs": [
        {
          "output_type": "stream",
          "name": "stdout",
          "text": [
            "Looking in indexes: https://pypi.org/simple, https://us-python.pkg.dev/colab-wheels/public/simple/\n",
            "Requirement already satisfied: adversarial-robustness-toolbox in /usr/local/lib/python3.7/dist-packages (1.10.2)\n",
            "Requirement already satisfied: scikit-learn<1.1.0,>=0.22.2 in /usr/local/lib/python3.7/dist-packages (from adversarial-robustness-toolbox) (1.0.2)\n",
            "Requirement already satisfied: numba>=0.53.1 in /usr/local/lib/python3.7/dist-packages (from adversarial-robustness-toolbox) (0.55.2)\n",
            "Requirement already satisfied: setuptools in /usr/local/lib/python3.7/dist-packages (from adversarial-robustness-toolbox) (57.4.0)\n",
            "Requirement already satisfied: six in /usr/local/lib/python3.7/dist-packages (from adversarial-robustness-toolbox) (1.15.0)\n",
            "Requirement already satisfied: scipy>=1.4.1 in /usr/local/lib/python3.7/dist-packages (from adversarial-robustness-toolbox) (1.4.1)\n",
            "Requirement already satisfied: tqdm in /usr/local/lib/python3.7/dist-packages (from adversarial-robustness-toolbox) (4.64.0)\n",
            "Requirement already satisfied: numpy>=1.18.0 in /usr/local/lib/python3.7/dist-packages (from adversarial-robustness-toolbox) (1.21.6)\n",
            "Requirement already satisfied: llvmlite<0.39,>=0.38.0rc1 in /usr/local/lib/python3.7/dist-packages (from numba>=0.53.1->adversarial-robustness-toolbox) (0.38.1)\n",
            "Requirement already satisfied: threadpoolctl>=2.0.0 in /usr/local/lib/python3.7/dist-packages (from scikit-learn<1.1.0,>=0.22.2->adversarial-robustness-toolbox) (3.1.0)\n",
            "Requirement already satisfied: joblib>=0.11 in /usr/local/lib/python3.7/dist-packages (from scikit-learn<1.1.0,>=0.22.2->adversarial-robustness-toolbox) (1.1.0)\n"
          ]
        }
      ]
    },
    {
      "cell_type": "markdown",
      "source": [
        "### PREPARACION"
      ],
      "metadata": {
        "id": "V6oYTMUlMgFN"
      }
    },
    {
      "cell_type": "markdown",
      "source": [
        "#### Carga de datos"
      ],
      "metadata": {
        "id": "gsxXoRAPMjn7"
      }
    },
    {
      "cell_type": "code",
      "source": [
        "path_images = ImageDataGenerator().flow_from_directory(directory=DATA_DIR, target_size=(128,128), batch_size=10000)"
      ],
      "metadata": {
        "colab": {
          "base_uri": "https://localhost:8080/"
        },
        "id": "o1_ZGBfFWyRV",
        "outputId": "1ee388ab-d017-46f8-89da-a87cff69c384"
      },
      "execution_count": 4,
      "outputs": [
        {
          "output_type": "stream",
          "name": "stdout",
          "text": [
            "Found 9339 images belonging to 25 classes.\n"
          ]
        }
      ]
    },
    {
      "cell_type": "code",
      "source": [
        "images, marks = next(path_images)"
      ],
      "metadata": {
        "id": "ZFlYKccEW8ZX"
      },
      "execution_count": 5,
      "outputs": []
    },
    {
      "cell_type": "code",
      "source": [
        "indices_path = path_images.class_indices"
      ],
      "metadata": {
        "id": "m7QqV8V9XG84"
      },
      "execution_count": 6,
      "outputs": []
    },
    {
      "cell_type": "code",
      "source": [
        "type_images = indices_path.keys()"
      ],
      "metadata": {
        "id": "ggO9hOcTXpFd"
      },
      "execution_count": 7,
      "outputs": []
    },
    {
      "cell_type": "code",
      "source": [
        "add = sum(marks)\n",
        "marks_qt = marks.shape[0]"
      ],
      "metadata": {
        "id": "mejqVfAFXp6t"
      },
      "execution_count": 8,
      "outputs": []
    },
    {
      "cell_type": "code",
      "source": [
        "quantity = ((add) / marks_qt)"
      ],
      "metadata": {
        "id": "Zxh3aR0-XsrF"
      },
      "execution_count": 9,
      "outputs": []
    },
    {
      "cell_type": "code",
      "source": [
        "quantity = quantity * 100\n",
        "quantity"
      ],
      "metadata": {
        "colab": {
          "base_uri": "https://localhost:8080/"
        },
        "id": "3UsTO1oQXui4",
        "outputId": "7e8f3fb0-ab86-4694-e5e7-0e7b3515e9e0"
      },
      "execution_count": 10,
      "outputs": [
        {
          "output_type": "execute_result",
          "data": {
            "text/plain": [
              "array([ 1.3063496 ,  1.2421031 , 31.577257  , 17.036085  ,  2.1201413 ,\n",
              "        1.1350251 ,  1.5633365 ,  2.141557  ,  1.895278  ,  1.7346611 ,\n",
              "        4.079666  ,  4.615055  ,  2.2807581 ,  1.9702322 ,  1.3170575 ,\n",
              "        1.7025378 ,  1.4562588 ,  1.5205053 ,  1.6918299 ,  0.85662276,\n",
              "        1.3705964 ,  1.4134276 ,  4.3687763 ,  1.038655  ,  8.566228  ],\n",
              "      dtype=float32)"
            ]
          },
          "metadata": {},
          "execution_count": 10
        }
      ]
    },
    {
      "cell_type": "markdown",
      "source": [
        "#### Preparacion de datos"
      ],
      "metadata": {
        "id": "zWDq4sXQMoRP"
      }
    },
    {
      "cell_type": "code",
      "source": [
        "from sklearn.model_selection import train_test_split"
      ],
      "metadata": {
        "id": "xumzkq4WXyc5"
      },
      "execution_count": 11,
      "outputs": []
    },
    {
      "cell_type": "code",
      "source": [
        "X_train, X_test, y_train, y_test = train_test_split(images/255.,marks, test_size=0.3)"
      ],
      "metadata": {
        "id": "9heJhVUUX0Jx"
      },
      "execution_count": 12,
      "outputs": []
    },
    {
      "cell_type": "code",
      "source": [
        "X_train.shape"
      ],
      "metadata": {
        "colab": {
          "base_uri": "https://localhost:8080/"
        },
        "id": "jlugapELX2DH",
        "outputId": "eb91cfe2-20b1-49cf-bb3b-12f074193913"
      },
      "execution_count": 13,
      "outputs": [
        {
          "output_type": "execute_result",
          "data": {
            "text/plain": [
              "(6537, 128, 128, 3)"
            ]
          },
          "metadata": {},
          "execution_count": 13
        }
      ]
    },
    {
      "cell_type": "code",
      "source": [
        "X_test.shape"
      ],
      "metadata": {
        "colab": {
          "base_uri": "https://localhost:8080/"
        },
        "id": "MgZ32dnPX4dG",
        "outputId": "e0af2a18-5eb6-4c35-ce06-34da0173699f"
      },
      "execution_count": 14,
      "outputs": [
        {
          "output_type": "execute_result",
          "data": {
            "text/plain": [
              "(2802, 128, 128, 3)"
            ]
          },
          "metadata": {},
          "execution_count": 14
        }
      ]
    },
    {
      "cell_type": "code",
      "source": [
        "y_train.shape"
      ],
      "metadata": {
        "colab": {
          "base_uri": "https://localhost:8080/"
        },
        "id": "kE2TIyV-X4VL",
        "outputId": "e19a46fd-70bc-49d9-9d39-3eee6a8e7a3a"
      },
      "execution_count": 15,
      "outputs": [
        {
          "output_type": "execute_result",
          "data": {
            "text/plain": [
              "(6537, 25)"
            ]
          },
          "metadata": {},
          "execution_count": 15
        }
      ]
    },
    {
      "cell_type": "code",
      "source": [
        "y_test.shape"
      ],
      "metadata": {
        "colab": {
          "base_uri": "https://localhost:8080/"
        },
        "id": "CXLm2mzIX4NS",
        "outputId": "e5505b90-9134-48f1-9d8d-6f7eda51f6f0"
      },
      "execution_count": 16,
      "outputs": [
        {
          "output_type": "execute_result",
          "data": {
            "text/plain": [
              "(2802, 25)"
            ]
          },
          "metadata": {},
          "execution_count": 16
        }
      ]
    },
    {
      "cell_type": "markdown",
      "source": [
        "### MODELO BASE"
      ],
      "metadata": {
        "id": "NKRizpmwMrfb"
      }
    },
    {
      "cell_type": "code",
      "source": [
        "base_model = keras.Sequential()\n",
        "base_model.add(keras.layers.Conv2D(32, (5, 5), input_shape=(128, 128, 3), activation='relu', padding='same'))\n",
        "base_model.add(keras.layers.MaxPooling2D(2))\n",
        "base_model.add(keras.layers.Conv2D(64, (3, 3), activation='relu'))\n",
        "#base_model.add(keras.layers.Conv2D(128, (3, 3), activation='relu'))\n",
        "base_model.add(keras.layers.Dense(64))\n",
        "base_model.add(keras.layers.Flatten())\n",
        "base_model.add(keras.layers.Dense(25, activation='softmax'))"
      ],
      "metadata": {
        "id": "EYv4eSghX-EJ"
      },
      "execution_count": 48,
      "outputs": []
    },
    {
      "cell_type": "code",
      "source": [
        "base_model.summary()"
      ],
      "metadata": {
        "colab": {
          "base_uri": "https://localhost:8080/"
        },
        "id": "VY2A1n5GYARt",
        "outputId": "c69641ff-38ff-4e32-d25e-e63363313dac"
      },
      "execution_count": 49,
      "outputs": [
        {
          "output_type": "stream",
          "name": "stdout",
          "text": [
            "Model: \"sequential_3\"\n",
            "_________________________________________________________________\n",
            " Layer (type)                Output Shape              Param #   \n",
            "=================================================================\n",
            " conv2d_6 (Conv2D)           (None, 128, 128, 32)      2432      \n",
            "                                                                 \n",
            " max_pooling2d_3 (MaxPooling  (None, 64, 64, 32)       0         \n",
            " 2D)                                                             \n",
            "                                                                 \n",
            " conv2d_7 (Conv2D)           (None, 62, 62, 64)        18496     \n",
            "                                                                 \n",
            " dense_6 (Dense)             (None, 62, 62, 64)        4160      \n",
            "                                                                 \n",
            " flatten_3 (Flatten)         (None, 246016)            0         \n",
            "                                                                 \n",
            " dense_7 (Dense)             (None, 25)                6150425   \n",
            "                                                                 \n",
            "=================================================================\n",
            "Total params: 6,175,513\n",
            "Trainable params: 6,175,513\n",
            "Non-trainable params: 0\n",
            "_________________________________________________________________\n"
          ]
        }
      ]
    },
    {
      "cell_type": "markdown",
      "source": [
        "#### Compilado"
      ],
      "metadata": {
        "id": "-lftWRTUMunF"
      }
    },
    {
      "cell_type": "code",
      "source": [
        "base_model.compile(\n",
        "    loss='categorical_crossentropy',\n",
        "    optimizer='adam',\n",
        "    metrics=['accuracy']\n",
        ")"
      ],
      "metadata": {
        "id": "MvIKR4YyYEJL"
      },
      "execution_count": 50,
      "outputs": []
    },
    {
      "cell_type": "markdown",
      "source": [
        "#### Clasificador"
      ],
      "metadata": {
        "id": "arODO3GSMxyb"
      }
    },
    {
      "cell_type": "code",
      "source": [
        "from art.attacks.evasion import FastGradientMethod\n",
        "from art.estimators.classification import KerasClassifier"
      ],
      "metadata": {
        "id": "00IEzNKQYK9V"
      },
      "execution_count": 51,
      "outputs": []
    },
    {
      "cell_type": "code",
      "source": [
        "tf.compat.v1.disable_eager_execution()"
      ],
      "metadata": {
        "id": "dYhLF3cbYLt7"
      },
      "execution_count": 52,
      "outputs": []
    },
    {
      "cell_type": "code",
      "source": [
        "classifier = KerasClassifier(\n",
        "    model=base_model,\n",
        "    clip_values=(0, 1),\n",
        "    use_logits=False\n",
        ")"
      ],
      "metadata": {
        "id": "SW615hEeby_b"
      },
      "execution_count": 53,
      "outputs": []
    },
    {
      "cell_type": "markdown",
      "source": [
        "#### Entrenamiento"
      ],
      "metadata": {
        "id": "Z--_tuwWM4MB"
      }
    },
    {
      "cell_type": "code",
      "source": [
        "classifier.fit(X_train, y_train, batch_size=64, nb_epochs=2)"
      ],
      "metadata": {
        "colab": {
          "base_uri": "https://localhost:8080/"
        },
        "id": "qmSyFX4lb3rm",
        "outputId": "7a14dc78-34b6-4d27-d1f1-7253b927b8b2"
      },
      "execution_count": 55,
      "outputs": [
        {
          "output_type": "stream",
          "name": "stdout",
          "text": [
            "Train on 6537 samples\n",
            "Epoch 1/2\n",
            "6537/6537 [==============================] - 208s 32ms/sample - loss: 1.4835 - accuracy: 0.7647\n",
            "Epoch 2/2\n",
            "6537/6537 [==============================] - 193s 30ms/sample - loss: 0.0958 - accuracy: 0.9726\n"
          ]
        }
      ]
    },
    {
      "cell_type": "markdown",
      "source": [
        "#### Predicciones"
      ],
      "metadata": {
        "id": "5oBK2ubiM6L0"
      }
    },
    {
      "cell_type": "code",
      "source": [
        "predictions = np.argmax(classifier.predict(X_test), axis=1)"
      ],
      "metadata": {
        "colab": {
          "base_uri": "https://localhost:8080/"
        },
        "id": "I1UAN5L5cZeE",
        "outputId": "0dacdbc5-a66f-448a-d68e-49e77741fdaf"
      },
      "execution_count": 56,
      "outputs": [
        {
          "output_type": "stream",
          "name": "stderr",
          "text": [
            "/usr/local/lib/python3.7/dist-packages/keras/engine/training_v1.py:2079: UserWarning: `Model.state_updates` will be removed in a future version. This property should not be used in TensorFlow 2.0, as `updates` are applied automatically.\n",
            "  updates=self.state_updates,\n"
          ]
        }
      ]
    },
    {
      "cell_type": "code",
      "source": [
        "correct_predicted = np.sum(predictions == np.argmax(y_test, axis=1))\n",
        "acc = correct_predicted / len(y_test)\n",
        "\n",
        "print(\"Accuracy para predicciones de modelos base: {}%\".format(acc * 100))\n",
        "print(\"Cantidad de valores clasificados correctamente: {}\".format(correct_predicted))"
      ],
      "metadata": {
        "colab": {
          "base_uri": "https://localhost:8080/"
        },
        "id": "B2yDIKTmvaVb",
        "outputId": "69bd66ea-fd35-4c20-ca31-33c1c0507875"
      },
      "execution_count": 57,
      "outputs": [
        {
          "output_type": "stream",
          "name": "stdout",
          "text": [
            "Accuracy para predicciones de modelos base: 95.53890078515346%\n",
            "Cantidad de valores clasificados correctamente: 2677\n"
          ]
        }
      ]
    },
    {
      "cell_type": "markdown",
      "source": [
        "#### Generacion de observaciones"
      ],
      "metadata": {
        "id": "e2MJRxHYM_IS"
      }
    },
    {
      "cell_type": "code",
      "source": [
        "attacker = FastGradientMethod(estimator=classifier, eps=50)"
      ],
      "metadata": {
        "id": "SRq4356bvca1"
      },
      "execution_count": 58,
      "outputs": []
    },
    {
      "cell_type": "code",
      "source": [
        "x_test_adv = attacker.generate(x=X_test)"
      ],
      "metadata": {
        "id": "gnV3DwIRveHt"
      },
      "execution_count": 59,
      "outputs": []
    },
    {
      "cell_type": "markdown",
      "source": [
        "#### Prediccion y resultados con observaciones falsas"
      ],
      "metadata": {
        "id": "zuSqCWnqNCmV"
      }
    },
    {
      "cell_type": "code",
      "source": [
        "adv_predictions = np.argmax(classifier.predict(x_test_adv), axis=1)"
      ],
      "metadata": {
        "id": "TBKQpXR6vgw1"
      },
      "execution_count": 60,
      "outputs": []
    },
    {
      "cell_type": "code",
      "source": [
        "adv_correct_predicted = np.sum(adv_predictions == np.argmax(y_test, axis=1))\n",
        "adv_acc = adv_correct_predicted / len(y_test)\n",
        "\n",
        "print(\"Accuracy para modelos con ataque: {}%\".format(adv_acc * 100))\n",
        "print(\"Cantidad de valores clasificados correctamente: {}\".format(adv_correct_predicted))"
      ],
      "metadata": {
        "colab": {
          "base_uri": "https://localhost:8080/"
        },
        "id": "PD_3lmHzvipt",
        "outputId": "6c611dbf-86a5-40f3-b598-b2a81a7ffd80"
      },
      "execution_count": 61,
      "outputs": [
        {
          "output_type": "stream",
          "name": "stdout",
          "text": [
            "Accuracy para modelos con ataque: 2.426837972876517%\n",
            "Cantidad de valores clasificados correctamente: 68\n"
          ]
        }
      ]
    },
    {
      "cell_type": "markdown",
      "source": [
        "### MODELO MEJORADO"
      ],
      "metadata": {
        "id": "ryAGFXm0NID6"
      }
    },
    {
      "cell_type": "markdown",
      "source": [
        "#### Muestras adversarias"
      ],
      "metadata": {
        "id": "W_e5cj64ydDK"
      }
    },
    {
      "cell_type": "code",
      "source": [
        "train_attacker = FastGradientMethod(estimator=classifier, eps=100)"
      ],
      "metadata": {
        "id": "gUOWuJ4EvlUK"
      },
      "execution_count": 30,
      "outputs": []
    },
    {
      "cell_type": "code",
      "source": [
        "x_train_fgm = attacker.generate(x=X_train)"
      ],
      "metadata": {
        "id": "mtL6Ak5fvm9Q"
      },
      "execution_count": 31,
      "outputs": []
    },
    {
      "cell_type": "code",
      "source": [
        "X_train = np.append(X_train, x_train_fgm, axis=0)\n",
        "y_train = np.append(y_train, y_train, axis=0)"
      ],
      "metadata": {
        "id": "NAhlREC0votC"
      },
      "execution_count": 32,
      "outputs": []
    },
    {
      "cell_type": "markdown",
      "source": [
        "#### Entrenamiento"
      ],
      "metadata": {
        "id": "nTUc4hPoNL45"
      }
    },
    {
      "cell_type": "code",
      "source": [
        "classifier.fit(X_train, y_train, batch_size=64, nb_epochs=3)"
      ],
      "metadata": {
        "id": "P7yVNWGfvpWa"
      },
      "execution_count": null,
      "outputs": []
    },
    {
      "cell_type": "markdown",
      "source": [
        "#### Predicciones y evaluacion"
      ],
      "metadata": {
        "id": "CmuQH_uQNPBV"
      }
    },
    {
      "cell_type": "code",
      "source": [
        "rob_predictions = np.argmax(classifier.predict(x_test_adv), axis=1)"
      ],
      "metadata": {
        "id": "chOuELM9vtIs"
      },
      "execution_count": null,
      "outputs": []
    },
    {
      "cell_type": "code",
      "source": [
        "rob_correct_predicted = np.sum(rob_predictions == np.argmax(y_test, axis=1))\n",
        "rob_acc = rob_correct_predicted / len(y_test)\n",
        "\n",
        "print(\"Accuracy de modelo mejorado con ataque: {}%\".format(rob_acc * 100))\n",
        "print(\"Cantidad de valores clasificados correctamente: {}\".format(len(rob_correct_predicted)))"
      ],
      "metadata": {
        "id": "t2Yr96C-vw8l"
      },
      "execution_count": null,
      "outputs": []
    },
    {
      "cell_type": "markdown",
      "source": [
        "### Trainer de ART"
      ],
      "metadata": {
        "id": "CMm_YujzyhaP"
      }
    },
    {
      "cell_type": "markdown",
      "source": [
        "#### Modelo"
      ],
      "metadata": {
        "id": "5rBiIgac967B"
      }
    },
    {
      "cell_type": "code",
      "source": [
        "defense_model = keras.Sequential()\n",
        "defense_model.add(keras.layers.Conv2D(32, (5, 5), input_shape=(128, 128, 3), activation='relu', padding='same'))\n",
        "defense_model.add(keras.layers.MaxPooling2D(2))\n",
        "defense_model.add(keras.layers.Conv2D(64, (3, 3), activation='relu'))\n",
        "defense_model.add(keras.layers.Dense(64))\n",
        "defense_model.add(keras.layers.Flatten())\n",
        "defense_model.add(keras.layers.Dense(25, activation='softmax'))"
      ],
      "metadata": {
        "id": "BqylkGhw6JMQ"
      },
      "execution_count": 62,
      "outputs": []
    },
    {
      "cell_type": "code",
      "source": [
        "defense_model.summary()"
      ],
      "metadata": {
        "colab": {
          "base_uri": "https://localhost:8080/"
        },
        "id": "kPQrP2HU6URZ",
        "outputId": "7ff1b515-9c20-4966-fea7-f29493ada146"
      },
      "execution_count": 63,
      "outputs": [
        {
          "output_type": "stream",
          "name": "stdout",
          "text": [
            "Model: \"sequential_4\"\n",
            "_________________________________________________________________\n",
            " Layer (type)                Output Shape              Param #   \n",
            "=================================================================\n",
            " conv2d_8 (Conv2D)           (None, 128, 128, 32)      2432      \n",
            "                                                                 \n",
            " max_pooling2d_4 (MaxPooling  (None, 64, 64, 32)       0         \n",
            " 2D)                                                             \n",
            "                                                                 \n",
            " conv2d_9 (Conv2D)           (None, 62, 62, 64)        18496     \n",
            "                                                                 \n",
            " dense_8 (Dense)             (None, 62, 62, 64)        4160      \n",
            "                                                                 \n",
            " flatten_4 (Flatten)         (None, 246016)            0         \n",
            "                                                                 \n",
            " dense_9 (Dense)             (None, 25)                6150425   \n",
            "                                                                 \n",
            "=================================================================\n",
            "Total params: 6,175,513\n",
            "Trainable params: 6,175,513\n",
            "Non-trainable params: 0\n",
            "_________________________________________________________________\n"
          ]
        }
      ]
    },
    {
      "cell_type": "code",
      "source": [
        "defense_model.compile(\n",
        "    loss='categorical_crossentropy',\n",
        "    optimizer='adam',\n",
        "    metrics=['accuracy']\n",
        ")"
      ],
      "metadata": {
        "id": "7a9oOoqm6Uas"
      },
      "execution_count": 64,
      "outputs": []
    },
    {
      "cell_type": "markdown",
      "source": [
        "#### Classifier"
      ],
      "metadata": {
        "id": "cKwcdMJm9-9G"
      }
    },
    {
      "cell_type": "code",
      "source": [
        "dclassifier = KerasClassifier(\n",
        "    model=defense_model,\n",
        "    clip_values=(0, 1),\n",
        "    use_logits=False\n",
        ")"
      ],
      "metadata": {
        "id": "Udaeowdo6UeO"
      },
      "execution_count": 65,
      "outputs": []
    },
    {
      "cell_type": "markdown",
      "source": [
        "#### Entrenamiento"
      ],
      "metadata": {
        "id": "UOlJU7vZ-DP-"
      }
    },
    {
      "cell_type": "code",
      "source": [
        "dclassifier.fit(X_train, y_train, batch_size=64, nb_epochs=2)"
      ],
      "metadata": {
        "colab": {
          "base_uri": "https://localhost:8080/"
        },
        "id": "2yZHVqg86yMK",
        "outputId": "51f7dd87-e028-4284-935d-7d907b337e04"
      },
      "execution_count": 66,
      "outputs": [
        {
          "output_type": "stream",
          "name": "stdout",
          "text": [
            "Train on 6537 samples\n",
            "Epoch 1/2\n",
            "6537/6537 [==============================] - 192s 29ms/sample - loss: 1.3408 - accuracy: 0.7785\n",
            "Epoch 2/2\n",
            "6537/6537 [==============================] - 188s 29ms/sample - loss: 0.0670 - accuracy: 0.9819\n"
          ]
        }
      ]
    },
    {
      "cell_type": "markdown",
      "source": [
        "#### Predicciones"
      ],
      "metadata": {
        "id": "c5t5bgpN-FFp"
      }
    },
    {
      "cell_type": "code",
      "source": [
        "predictions = np.argmax(dclassifier.predict(X_test), axis=1)"
      ],
      "metadata": {
        "colab": {
          "base_uri": "https://localhost:8080/"
        },
        "id": "1YFUCxV26zbk",
        "outputId": "04a4e5aa-25b3-4c23-fbe8-02c40b142df7"
      },
      "execution_count": 67,
      "outputs": [
        {
          "output_type": "stream",
          "name": "stderr",
          "text": [
            "/usr/local/lib/python3.7/dist-packages/keras/engine/training_v1.py:2079: UserWarning: `Model.state_updates` will be removed in a future version. This property should not be used in TensorFlow 2.0, as `updates` are applied automatically.\n",
            "  updates=self.state_updates,\n"
          ]
        }
      ]
    },
    {
      "cell_type": "code",
      "source": [
        "correct_predicted = np.sum(predictions == np.argmax(y_test, axis=1))\n",
        "acc = correct_predicted / len(y_test)\n",
        "\n",
        "print(\"TOTAL DE VALORES: {}\".format(len(y_test)))\n",
        "print(\"Accuracy de modelo mejorado con ataque: {}%\".format(acc * 100))\n",
        "print(\"Cantidad de valores clasificados correctamente: {}\".format(correct_predicted))"
      ],
      "metadata": {
        "colab": {
          "base_uri": "https://localhost:8080/"
        },
        "id": "1tHCfCoW6zg_",
        "outputId": "0fe0c056-d912-4081-a250-70bb8a5a7be5"
      },
      "execution_count": 68,
      "outputs": [
        {
          "output_type": "stream",
          "name": "stdout",
          "text": [
            "TOTAL DE VALORES: 2802\n",
            "Accuracy de modelo mejorado con ataque: 96.60956459671664%\n",
            "Cantidad de valores clasificados correctamente: 2707\n"
          ]
        }
      ]
    },
    {
      "cell_type": "markdown",
      "source": [
        "#### Entrenamiento adversario"
      ],
      "metadata": {
        "id": "Ch8P3Y74-GxL"
      }
    },
    {
      "cell_type": "code",
      "source": [
        "dattacker = FastGradientMethod(estimator=dclassifier, eps=100)"
      ],
      "metadata": {
        "id": "C5RZerEG9Zbk"
      },
      "execution_count": 69,
      "outputs": []
    },
    {
      "cell_type": "code",
      "source": [
        "x_test_adv = dattacker.generate(x=X_test)"
      ],
      "metadata": {
        "id": "H-BNPaSpEDjm"
      },
      "execution_count": 70,
      "outputs": []
    },
    {
      "cell_type": "code",
      "source": [
        "from art.defences.trainer import AdversarialTrainer"
      ],
      "metadata": {
        "id": "kR9CDKErykmi"
      },
      "execution_count": 71,
      "outputs": []
    },
    {
      "cell_type": "code",
      "source": [
        "defender = AdversarialTrainer(\n",
        "    classifier=dclassifier,\n",
        "    attacks=dattacker,\n",
        "    ratio=0.5\n",
        ")"
      ],
      "metadata": {
        "id": "VnCDwGzMyo6f"
      },
      "execution_count": 80,
      "outputs": []
    },
    {
      "cell_type": "code",
      "source": [
        "defender.fit(x=X_train, y=y_train, nb_epochs=3)"
      ],
      "metadata": {
        "colab": {
          "base_uri": "https://localhost:8080/",
          "height": 81,
          "referenced_widgets": [
            "7f0bc2bf89194c68bd18a4f6453dc2bd",
            "f7294fde441d4baa9e62a5781bb343e9",
            "2dcf0c68b95c4293a486bbd87963e18f",
            "dd8e79f3d8ee4781b62d2b0e385cc0be",
            "abd93ebe839b40a681b8cab180e133dd",
            "586d1f444f63485380d6bd74bb111203",
            "e138f9cfae5444c598f8e44770fd37cf",
            "bb7cd09b715f4f498993fe27a0d0bf26",
            "e5c9c6c518c84822b8bfd73866bd4e0b",
            "14cf91e641794f28aecb84cdb5828751",
            "25a8ea412b304516a4e067efad27f58d",
            "ffdf1f2928b14bc8b4340e82b58b789e",
            "c81b6e50ac1e4d76a05e3c0002a8eaba",
            "8c42e35039d945c9b8b07fbb48102539",
            "0d245fce0a664db2b7cd7336a94d0e20",
            "cd8d98d8fe044a15ad8b96a1b857024f",
            "545d87d06f804efe99b5c1a547fbcff2",
            "fe4c0e23f0ac4c39840a4b0aa8cc7323",
            "62c2ceee27a74f8381a69e4b78482de0",
            "ea0d5985118947cf8a0dce33b918c072",
            "b00b685c02a14e6e8a09763eaec53858",
            "9d8308517a5a4041bdd3470feb94e0eb"
          ]
        },
        "id": "ERisVtygzJFD",
        "outputId": "0a3ad216-5328-4aa6-a47a-27a2ecbf4c9d"
      },
      "execution_count": 81,
      "outputs": [
        {
          "output_type": "display_data",
          "data": {
            "text/plain": [
              "Precompute adv samples:   0%|          | 0/1 [00:00<?, ?it/s]"
            ],
            "application/vnd.jupyter.widget-view+json": {
              "version_major": 2,
              "version_minor": 0,
              "model_id": "7f0bc2bf89194c68bd18a4f6453dc2bd"
            }
          },
          "metadata": {}
        },
        {
          "output_type": "display_data",
          "data": {
            "text/plain": [
              "Adversarial training epochs:   0%|          | 0/3 [00:00<?, ?it/s]"
            ],
            "application/vnd.jupyter.widget-view+json": {
              "version_major": 2,
              "version_minor": 0,
              "model_id": "ffdf1f2928b14bc8b4340e82b58b789e"
            }
          },
          "metadata": {}
        }
      ]
    },
    {
      "cell_type": "code",
      "source": [
        "av_predictions = np.argmax(dclassifier.predict(x_test_adv), axis=1)"
      ],
      "metadata": {
        "id": "AG_dcw4azc1C"
      },
      "execution_count": 82,
      "outputs": []
    },
    {
      "cell_type": "code",
      "source": [
        "av_correct_predicted = np.sum(av_predictions == np.argmax(y_test, axis=1))\n",
        "av_acc = av_correct_predicted / len(y_test)\n",
        "\n",
        "print(\"TOTAL DE VALORES: {}\".format(len(y_test)))\n",
        "print(\"Accuracy de modelo mejorado con ataque: {}%\".format(av_acc * 100))\n",
        "print(\"Cantidad de valores clasificados correctamente: {}\".format(av_correct_predicted))"
      ],
      "metadata": {
        "colab": {
          "base_uri": "https://localhost:8080/"
        },
        "id": "Q4fHuyG4zhZ7",
        "outputId": "fd3a740d-9763-471c-d7da-7c0e8cd6b633"
      },
      "execution_count": 83,
      "outputs": [
        {
          "output_type": "stream",
          "name": "stdout",
          "text": [
            "TOTAL DE VALORES: 2802\n",
            "Accuracy de modelo mejorado con ataque: 85.36759457530336%\n",
            "Cantidad de valores clasificados correctamente: 2392\n"
          ]
        }
      ]
    },
    {
      "cell_type": "markdown",
      "source": [
        "#### Gráfica"
      ],
      "metadata": {
        "id": "mlH28CmX4zZ9"
      }
    },
    {
      "cell_type": "code",
      "source": [
        "N = len(y_test)\n",
        "\n",
        "eps = [0.5, 5, 10, 30, 50, 100]\n",
        "\n",
        "classifier_acc = []\n",
        "defender_acc = []\n",
        "\n",
        "\n",
        "for e in eps:\n",
        "  attacker.set_params(**{'eps': e})\n",
        "  dattacker.set_params(**{'eps': e})\n",
        "\n",
        "  x_test_adv_1 = attacker.generate(x=X_test)\n",
        "  x_test_adv_2 = dattacker.generate(x=X_test)\n",
        "\n",
        "  predictions_1 = np.sum(np.argmax(classifier.predict(x_test_adv_1), axis=1) == np.argmax(y_test, axis=1))\n",
        "  predictions_2 = np.sum(np.argmax(defender.predict(x_test_adv_2), axis=1) == np.argmax(y_test, axis=1))\n",
        "\n",
        "  classifier_acc.append(predictions_1 / N)\n",
        "  defender_acc.append(predictions_2 / N)\n",
        "\n",
        "print(classifier_acc)\n",
        "print(defender_acc)"
      ],
      "metadata": {
        "colab": {
          "base_uri": "https://localhost:8080/"
        },
        "id": "Dc9DxIBg4XoU",
        "outputId": "9de32c62-fbaf-4c19-e585-3b60d33a5d22"
      },
      "execution_count": 47,
      "outputs": [
        {
          "output_type": "stream",
          "name": "stdout",
          "text": [
            "[0.029621698786581014, 0.029621698786581014, 0.029621698786581014, 0.029621698786581014, 0.029621698786581014, 0.029621698786581014]\n",
            "[0.9632405424696645, 0.9632405424696645, 0.9632405424696645, 0.9632405424696645, 0.9632405424696645, 0.9632405424696645]\n"
          ]
        }
      ]
    },
    {
      "cell_type": "markdown",
      "source": [
        "Podemos observar que el modelo que ha pasado por el adversarial training es mucho más resiliente y se adapta mejor a las muestras falsas, de modo que logra clasificarlas correctamente."
      ],
      "metadata": {
        "id": "H4mHwoW5HrPS"
      }
    }
  ]
}